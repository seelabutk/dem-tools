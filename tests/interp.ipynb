{
 "cells": [
  {
   "cell_type": "code",
   "execution_count": 171,
   "metadata": {
    "collapsed": true
   },
   "outputs": [],
   "source": [
    "import os\n",
    "import math\n",
    "import rasterio as rio\n",
    "import numpy as np\n",
    "import netCDF4 as nc\n",
    "import matplotlib.pyplot as plt\n",
    "from pprint import pprint"
   ]
  },
  {
   "cell_type": "markdown",
   "source": [
    "---\n",
    "## Read in dem/tiff data"
   ],
   "metadata": {
    "collapsed": false
   }
  },
  {
   "cell_type": "code",
   "execution_count": 126,
   "outputs": [],
   "source": [
    "dem = rio.open(\"../data/merged.tiff\")\n",
    "elevation = dem.read(1)\n",
    "dem_lngs = np.array([dem.transform[2]], dtype=np.float64) + np.array([i*np.array([dem.transform[0]], dtype=np.float64) for i in range(dem.width)],dtype=np.float64).flatten()\n",
    "dem_lats = np.array([dem.transform[5]], dtype=np.float64) + np.array([i*np.array([dem.transform[4]], dtype=np.float64) for i in range(dem.height)],dtype=np.float64).flatten()\n"
   ],
   "metadata": {
    "collapsed": false
   }
  },
  {
   "cell_type": "code",
   "execution_count": 127,
   "outputs": [
    {
     "name": "stdout",
     "output_type": "stream",
     "text": [
      "(2401, 2401)\n",
      "2401 2401 37.000416666666666 35.000416666666666\n",
      "2401 2401 37.000416666666666 -83.00041666666667\n",
      "(-83.99990999999746, 36.000081111108415)\n",
      "None\n"
     ]
    },
    {
     "data": {
      "text/plain": "Affine(0.0008333333333333334, 0.0, -85.00041666666667,\n       0.0, -0.0008333333333333334, 37.000416666666666)"
     },
     "execution_count": 127,
     "metadata": {},
     "output_type": "execute_result"
    }
   ],
   "source": [
    "print(elevation.shape)\n",
    "print(dem.width, len(dem_lats), dem_lats[0],dem_lats[-1])\n",
    "print(dem.height, len(dem_lngs), dem_lats[0],dem_lngs[-1])\n",
    "print(dem.lnglat())\n",
    "print(dem.nodata)\n",
    "dem.transform\n"
   ],
   "metadata": {
    "collapsed": false
   }
  },
  {
   "cell_type": "code",
   "execution_count": 11,
   "outputs": [
    {
     "data": {
      "text/plain": "{'driver': 'GTiff',\n 'dtype': 'int16',\n 'nodata': None,\n 'width': 2401,\n 'height': 2401,\n 'count': 1,\n 'crs': CRS.from_epsg(4267),\n 'transform': Affine(0.0008333333333333334, 0.0, -85.00041666666667,\n        0.0, -0.0008333333333333334, 37.000416666666666)}"
     },
     "execution_count": 11,
     "metadata": {},
     "output_type": "execute_result"
    }
   ],
   "source": [
    "dem.meta"
   ],
   "metadata": {
    "collapsed": false
   }
  },
  {
   "cell_type": "markdown",
   "source": [
    "---\n",
    "## Read in netcdf data"
   ],
   "metadata": {
    "collapsed": false
   }
  },
  {
   "cell_type": "code",
   "execution_count": 131,
   "outputs": [],
   "source": [
    "ds = nc.Dataset('../LFBB.nc')\n",
    "nc_lats = ds['latitude'][:].astype(np.float64)\n",
    "nc_lngs = ds['longitude'][:].astype(np.float64)\n"
   ],
   "metadata": {
    "collapsed": false
   }
  },
  {
   "cell_type": "code",
   "execution_count": 156,
   "outputs": [
    {
     "data": {
      "text/plain": "<class 'netCDF4._netCDF4.Dataset'>\nroot group (NETCDF3_CLASSIC data model, file format NETCDF3):\n    dimensions(sizes): longitude(17), latitude(14), time(29952)\n    variables(dimensions): float32 longitude(longitude), float32 latitude(latitude), float32 dem(longitude, longitude), float32 bdy(longitude, latitude), float32 Fraction_of_reflected_sunlight(time, longitude, latitude), float32 Accumulated_Precipitation(time, longitude, latitude), float32 Fractional_Vegetation_Cover(time, longitude, latitude), float32 Downward_Longwave_Radiation_Flux_at_Surface(time, longitude, latitude), float32 Downward_Shortwave_Radiation_Flux_at_Surface(time, longitude, latitude), float32 Fraction_of_Photosynthetically_Active_Radiation(time, longitude, latitude), float32 International_Geosphere-Biosphere_Programme_Land_Cover_Classification(time, longitude, latitude), float32 Leaf_Area_Index(time, longitude, latitude), float32 Air_Pressure_at_Surface(time, longitude, latitude), float32 Specific_Humidity_2_m_above_ground(time, longitude, latitude), float32 Air_Temperature_2_m_above_ground(time, longitude, latitude), float32 Wind_velocities_10m_above_ground(time, longitude, latitude), float32 Emissivity(time, longitude, latitude)\n    groups: "
     },
     "execution_count": 156,
     "metadata": {},
     "output_type": "execute_result"
    }
   ],
   "source": [
    "ds"
   ],
   "metadata": {
    "collapsed": false
   }
  },
  {
   "cell_type": "code",
   "execution_count": 133,
   "outputs": [
    {
     "name": "stdout",
     "output_type": "stream",
     "text": [
      "<class 'numpy.ma.core.MaskedArray'>\n",
      "[-83.97676849 -83.95028687 -83.9238205  -83.8973465  -83.87088013\n",
      " -83.84441376 -83.81793976 -83.79147339 -83.76499939 -83.73853302\n",
      " -83.71205902 -83.68559265 -83.65911865 -83.63263702 -83.60617828\n",
      " -83.57969666 -83.55323792]\n"
     ]
    }
   ],
   "source": [
    "print(nc_lats)\n",
    "print(nc_lngs)\n"
   ],
   "metadata": {
    "collapsed": false
   }
  },
  {
   "cell_type": "markdown",
   "source": [
    "---\n",
    "## Get indices"
   ],
   "metadata": {
    "collapsed": false
   }
  },
  {
   "cell_type": "code",
   "execution_count": 14,
   "outputs": [
    {
     "data": {
      "text/plain": "(17, 14)"
     },
     "execution_count": 14,
     "metadata": {},
     "output_type": "execute_result"
    }
   ],
   "source": [
    "ds['Emissivity'][0,:].shape"
   ],
   "metadata": {
    "collapsed": false
   }
  },
  {
   "cell_type": "code",
   "execution_count": 134,
   "outputs": [
    {
     "name": "stdout",
     "output_type": "stream",
     "text": [
      "NETCDF: \n",
      "    i=0 lat:35.88676071166992\n",
      "    i=n lat:35.54264831542969\n",
      "    i=0 lng:-83.97676849365234\n",
      "    i=n lng:-83.55323791503906\n",
      "DEM: \n",
      "    i=0 lat:37.000416666666666\n",
      "    i=n lat:35.000416666666666\n",
      "    i=0 lng:-85.00041666666667\n",
      "    i=n lng:-83.00041666666667\n"
     ]
    }
   ],
   "source": [
    "nc_0_lat, nc_n_lat = nc_lats[0], nc_lats[-1]\n",
    "nc_0_lng, nc_n_lng = nc_lngs[0], nc_lngs[-1]\n",
    "dem_0_lat, dem_n_lat = dem_lats[0], dem_lats[-1]\n",
    "dem_0_lng, dem_n_lng = dem_lngs[0], dem_lngs[-1]\n",
    "\n",
    "print(f'NETCDF: ')\n",
    "print(f'    i=0 lat:{nc_0_lat}')\n",
    "print(f'    i=n lat:{nc_n_lat}')\n",
    "print(f'    i=0 lng:{nc_0_lng}')\n",
    "print(f'    i=n lng:{nc_n_lng}')\n",
    "\n",
    "print(f'DEM: ')\n",
    "print(f'    i=0 lat:{dem_0_lat}')\n",
    "print(f'    i=n lat:{dem_n_lat}')\n",
    "print(f'    i=0 lng:{dem_0_lng}')\n",
    "print(f'    i=n lng:{dem_n_lng}')"
   ],
   "metadata": {
    "collapsed": false
   }
  },
  {
   "cell_type": "code",
   "execution_count": 135,
   "outputs": [
    {
     "name": "stdout",
     "output_type": "stream",
     "text": [
      "1337 35.88625\n",
      "1749 35.54291666666666\n",
      "1229 -83.97625\n",
      "1736 -83.55375\n"
     ]
    }
   ],
   "source": [
    "# find inidices that contain the nc coordinates\n",
    "\n",
    "# latitudes - decrease as i->n\n",
    "min_lat_idx, max_lat_idx = -1, -1\n",
    "for i in range(len(dem_lats)):\n",
    "    lat = dem_lats[i]\n",
    "    if lat < nc_0_lat  and min_lat_idx == -1: # correct\n",
    "        min_lat_idx = i\n",
    "    if lat > nc_n_lat: # correct\n",
    "        max_lat_idx = i\n",
    "print(min_lat_idx, dem_lats[min_lat_idx]) # correct\n",
    "print(max_lat_idx, dem_lats[max_lat_idx]) # correct\n",
    "\n",
    "# longitudes - increase as i->n\n",
    "min_lng_idx, max_lng_idx = -1,-1\n",
    "for i in range(len(dem_lngs)):\n",
    "    lng = dem_lngs[i]\n",
    "    if lng < nc_n_lng: # correct\n",
    "        max_lng_idx = i\n",
    "    if lng > nc_0_lng and min_lng_idx == -1: # correct\n",
    "        min_lng_idx = i\n",
    "\n",
    "print(min_lng_idx, dem_lngs[min_lng_idx]) # correct\n",
    "print(max_lng_idx, dem_lngs[max_lng_idx]) # correct"
   ],
   "metadata": {
    "collapsed": false
   }
  },
  {
   "cell_type": "markdown",
   "source": [
    "---\n",
    "# min max scale"
   ],
   "metadata": {
    "collapsed": false
   }
  },
  {
   "cell_type": "code",
   "execution_count": 136,
   "outputs": [],
   "source": [
    "def min_max_scale(data):\n",
    "    min_v, max_v = np.inf, -np.inf\n",
    "    for i in range(len(data)):\n",
    "        for j in range(len(data[i])):\n",
    "            v = data[i][j]\n",
    "            if v < min_v:\n",
    "                min_v = v\n",
    "            elif v > max_v:\n",
    "                max_v = v\n",
    "    for i in range(len(data)):\n",
    "        for j in range(len(data[i])):\n",
    "            v = data[i][j]\n",
    "            data[i][j] = (v-min_v)/(max_v-min_v)\n",
    "    return data\n"
   ],
   "metadata": {
    "collapsed": false
   }
  },
  {
   "cell_type": "markdown",
   "source": [
    "---\n",
    "# interpolation"
   ],
   "metadata": {
    "collapsed": false
   }
  },
  {
   "cell_type": "code",
   "execution_count": 137,
   "outputs": [],
   "source": [
    "def blerp(q11,q12,q21,q22,x1,x2,y1,y2,x,y):\n",
    "    x2x1 = x2 - x1\n",
    "    y2y1 = y2 - y1\n",
    "    x2x = x2 - x\n",
    "    y2y = y2 - y\n",
    "    yy1 = y - y1\n",
    "    xx1 = x - x1\n",
    "    return 1 / (x2x1*  y2y1) * (\n",
    "            q11 * x2x * y2y +\n",
    "            q21 * xx1 * y2y +\n",
    "            q12 * x2x * yy1 +\n",
    "            q22 * xx1 * yy1\n",
    "    )"
   ],
   "metadata": {
    "collapsed": false
   }
  },
  {
   "cell_type": "code",
   "execution_count": 178,
   "outputs": [
    {
     "data": {
      "text/plain": "413"
     },
     "execution_count": 178,
     "metadata": {},
     "output_type": "execute_result"
    }
   ],
   "source": [
    "max_lat_idx - min_lat_idx + 1"
   ],
   "metadata": {
    "collapsed": false
   }
  },
  {
   "cell_type": "code",
   "execution_count": 179,
   "outputs": [],
   "source": [
    "def interpolate(data):\n",
    "    # data_new = np.zeros((len(dem_lats), len(dem_lngs)))\n",
    "    data_new = np.zeros((max_lat_idx - min_lat_idx + 1, max_lng_idx - min_lng_idx + 1))\n",
    "    nc_lat_idx = 0\n",
    "    for dem_lat_idx in range(min_lat_idx,max_lat_idx+1):\n",
    "    # for dem_lat_idx in range(min_lat_idx,max_lat_idx+1):\n",
    "        dem_lat = dem_lats[dem_lat_idx]\n",
    "        nc_lat, nc_lat_next = nc_lats[nc_lat_idx], nc_lats[nc_lat_idx+1]\n",
    "        if dem_lat < nc_lat_next:\n",
    "            nc_lat_idx += 1\n",
    "            nc_lat, nc_lat_next = nc_lats[nc_lat_idx], nc_lats[nc_lat_idx+1]\n",
    "        nc_lng_idx = 0\n",
    "        for dem_lng_idx in range(min_lng_idx, max_lng_idx+1):\n",
    "            dem_lng = dem_lngs[dem_lng_idx]\n",
    "            nc_lng, nc_lng_next = nc_lngs[nc_lng_idx], nc_lngs[nc_lng_idx+1]\n",
    "            if dem_lng > nc_lng_next:\n",
    "                nc_lng_idx += 1\n",
    "                nc_lng, nc_lng_next = nc_lngs[nc_lng_idx], nc_lngs[nc_lng_idx+1]\n",
    "\n",
    "            data_new[dem_lat_idx-max_lat_idx, dem_lng_idx-max_lng_idx] = blerp(\n",
    "                # data[nc_lng_idx][nc_lat_idx+1], # Q11 - bottom right value  # used if data is not transposed\n",
    "                # data[nc_lng_idx+1][nc_lat_idx+1], # Q12 - top right value\n",
    "                # data[nc_lng_idx][nc_lat_idx], # 21 - bottom left value\n",
    "                # data[nc_lng_idx+1][nc_lat_idx], # Q22 - top left value Q\n",
    "                data[nc_lat_idx+1][nc_lng_idx], # Q11 - bottom right value\n",
    "                data[nc_lat_idx+1][nc_lng_idx+1], # Q12 - top right value\n",
    "                data[nc_lat_idx][nc_lng_idx], # 21 - bottom left value\n",
    "                data[nc_lat_idx][nc_lng_idx+1], # Q22 - top left value Q\n",
    "\n",
    "                nc_lat_next, # x1 - left x value\n",
    "                nc_lat, # x2 - right x value\n",
    "\n",
    "                nc_lng, # y1 - bottom y value\n",
    "                nc_lng_next, # y2 - top y value\n",
    "\n",
    "                dem_lat, # x - x interp value\n",
    "                dem_lng,  # y - y interp value\n",
    "            )\n",
    "    return data_new\n"
   ],
   "metadata": {
    "collapsed": false
   }
  },
  {
   "cell_type": "markdown",
   "source": [
    "---\n",
    "# Color bar\n"
   ],
   "metadata": {
    "collapsed": false
   }
  },
  {
   "cell_type": "code",
   "execution_count": 139,
   "outputs": [],
   "source": [
    "def cbar(v):\n",
    "    return HSVtoRGB(v, 1, 1)\n",
    "\n",
    "def HSVtoRGB(h,s,v):\n",
    "    i = math.floor(h * 6)\n",
    "    f = h * 6 - i\n",
    "    p = v * (1 - s)\n",
    "    q = v * (1 - f * s)\n",
    "    t = v * (1 - (1 - f) * s)\n",
    "    m = i % 6\n",
    "    if m == 0:\n",
    "        r,g,b = v,t,p\n",
    "    elif m == 1:\n",
    "        r,g,b = q,v,p\n",
    "    elif m == 2:\n",
    "        r,g,b = p,q,t\n",
    "    elif m == 3:\n",
    "        r,g,b = p,q,v\n",
    "    elif m == 4:\n",
    "        r,g,b = t,p,v\n",
    "    else: # m == 5:\n",
    "        r,g,b = v,p,q\n",
    "    return [\n",
    "        round(r*255),\n",
    "        round(g*255),\n",
    "        round(b*255),\n",
    "    ]\n"
   ],
   "metadata": {
    "collapsed": false
   }
  },
  {
   "cell_type": "markdown",
   "source": [
    "---\n",
    "# Putting it all together"
   ],
   "metadata": {
    "collapsed": false
   }
  },
  {
   "cell_type": "code",
   "execution_count": 226,
   "outputs": [],
   "source": [
    "from sklearn.preprocessing import MinMaxScaler\n",
    "\n",
    "data = ds['Air_Pressure_at_Surface'][0, :].astype(np.float64)\n",
    "data_scaled = min_max_scale(data.copy())\n",
    "data_new = interpolate(data_scaled.T)\n"
   ],
   "metadata": {
    "collapsed": false
   }
  },
  {
   "cell_type": "code",
   "execution_count": 227,
   "outputs": [
    {
     "name": "stdout",
     "output_type": "stream",
     "text": [
      "[[984.67950439 985.28485107 984.74414062 984.32495117 983.90112305\n",
      "  982.68786621 980.14587402 978.85174561 978.0993042  972.85974121\n",
      "  968.32244873 972.68304443 972.97705078 967.92071533]\n",
      " [983.828125   985.30834961 984.59606934 983.88708496 982.24694824\n",
      "  981.42193604 979.73828125 979.70404053 973.08984375 964.93029785\n",
      "  968.08447266 954.79138184 955.54467773 946.03393555]\n",
      " [984.33544922 984.48748779 983.10595703 982.83374023 981.9987793\n",
      "  980.8057251  980.49139404 980.00244141 963.28161621 949.09851074\n",
      "  957.01922607 962.98950195 940.43945312 931.71099854]\n",
      " [980.91680908 979.61834717 982.05249023 984.4362793  983.78186035\n",
      "  981.96362305 976.20141602 974.20031738 971.05438232 960.88751221\n",
      "  958.59155273 958.47088623 944.06195068 910.85217285]\n",
      " [981.68572998 979.87365723 978.7835083  981.53466797 982.48474121\n",
      "  981.7935791  979.22375488 970.75       967.56585693 959.85681152\n",
      "  951.04931641 951.77227783 940.92919922 917.05407715]\n",
      " [982.22821045 980.12536621 979.43725586 980.6060791  981.51391602\n",
      "  979.94122314 975.98138428 976.09326172 966.77545166 954.16577148\n",
      "  942.19915771 954.31634521 946.44274902 923.45056152]\n",
      " [980.73455811 980.31451416 979.3671875  980.63885498 977.25189209\n",
      "  967.81439209 978.59594727 979.99914551 972.92401123 953.57287598\n",
      "  933.28485107 952.00579834 919.01403809 895.51000977]\n",
      " [977.87518311 977.26477051 979.54046631 980.18725586 977.7644043\n",
      "  955.74865723 969.66650391 972.89361572 977.71154785 965.32904053\n",
      "  936.05780029 939.26153564 900.88031006 897.74169922]\n",
      " [978.98297119 979.51422119 980.18395996 980.94537354 972.11975098\n",
      "  958.55389404 959.23101807 971.05358887 971.60400391 954.16381836\n",
      "  937.89147949 926.93353271 889.73071289 892.34942627]\n",
      " [980.15655518 979.56134033 979.86700439 977.03570557 954.99279785\n",
      "  961.26806641 955.8626709  966.44274902 971.15905762 966.13067627\n",
      "  941.12268066 921.51733398 886.66577148 885.61401367]\n",
      " [979.25213623 978.74060059 974.25408936 952.61987305 964.23431396\n",
      "  959.81195068 952.32305908 955.48358154 964.39599609 966.56005859\n",
      "  936.92407227 906.07049561 884.3046875  886.23864746]\n",
      " [979.53979492 979.51538086 970.79046631 955.59606934 955.90631104\n",
      "  962.93811035 960.6741333  947.67779541 943.59393311 947.18994141\n",
      "  944.97747803 904.31103516 891.78491211 898.49591064]\n",
      " [980.60723877 980.03875732 970.47814941 963.23944092 965.21679688\n",
      "  972.30883789 963.91455078 959.07946777 945.0513916  926.88897705\n",
      "  913.92614746 905.32122803 882.78039551 893.03961182]\n",
      " [980.63891602 979.58874512 978.56109619 976.90826416 974.73168945\n",
      "  963.45782471 951.56811523 937.66821289 929.24389648 925.43359375\n",
      "  897.57849121 898.90716553 870.23291016 876.74407959]\n",
      " [983.12750244 981.37982178 979.82806396 976.74627686 967.90075684\n",
      "  962.34094238 947.28515625 918.72460938 917.17877197 929.46337891\n",
      "  895.02752686 874.91119385 861.7979126  876.94146729]\n",
      " [981.11975098 982.07110596 980.24212646 979.27539062 973.18688965\n",
      "  968.80993652 947.72045898 917.5970459  933.52185059 928.34515381\n",
      "  893.69732666 885.52178955 858.16247559 877.11999512]\n",
      " [980.31884766 981.92437744 979.99334717 975.79223633 975.96185303\n",
      "  969.04125977 953.29022217 947.95422363 942.23907471 923.87255859\n",
      "  898.96368408 882.05474854 853.88641357 879.22229004]]\n"
     ]
    }
   ],
   "source": [
    "print(data)"
   ],
   "metadata": {
    "collapsed": false
   }
  },
  {
   "cell_type": "code",
   "execution_count": 228,
   "outputs": [
    {
     "name": "stdout",
     "output_type": "stream",
     "text": [
      "[[0.99521507 0.9998212  0.99570689 0.99251724 0.9892923  0.98006053\n",
      "  0.96071831 0.95087118 0.9451458  0.90527755 0.87075292 0.90393305\n",
      "  0.90617016 0.8676961 ]\n",
      " [0.98873685 1.         0.9945802  0.98918548 0.97670555 0.97042797\n",
      "  0.95761691 0.95735636 0.90702841 0.84494178 0.86894215 0.76779396\n",
      "  0.77352585 0.70115785]\n",
      " [0.99259712 0.993754   0.98324182 0.9811705  0.97481722 0.96573917\n",
      "  0.9633474  0.95962692 0.83239683 0.72447645 0.7847458  0.83017411\n",
      "  0.65858899 0.59217348]\n",
      " [0.96658442 0.95670432 0.97522591 0.99336435 0.98838482 0.97454971\n",
      "  0.93070462 0.9154781  0.89154043 0.8141799  0.79670976 0.7957916\n",
      "  0.68615286 0.43345701]\n",
      " [0.9724352  0.95864699 0.95035196 0.97128576 0.97851494 0.97325583\n",
      "  0.95370183 0.88922436 0.86499596 0.80633722 0.73932028 0.74482135\n",
      "  0.6623155  0.48064779]\n",
      " [0.97656298 0.96056227 0.95532638 0.96422005 0.97112785 0.95916111\n",
      "  0.92903038 0.92988166 0.8589817  0.76303364 0.67197872 0.76417937\n",
      "  0.70426854 0.52931915]\n",
      " [0.96519766 0.96200151 0.95479322 0.96446944 0.93869777 0.86688708\n",
      "  0.94892479 0.95960184 0.90576658 0.75852225 0.60414905 0.74659823\n",
      "  0.49556129 0.31671727]\n",
      " [0.94344044 0.93879576 0.95611172 0.96103319 0.94259752 0.77507794\n",
      "  0.88097995 0.9055353  0.94219533 0.84797584 0.62524864 0.64962612\n",
      "  0.35758031 0.33369837]\n",
      " [0.95186969 0.95591201 0.96100811 0.96680177 0.8996469  0.79642321\n",
      "  0.8015755  0.89153439 0.89572254 0.76301878 0.63920125 0.55582136\n",
      "  0.27274213 0.29266813]\n",
      " [0.96079958 0.95627055 0.95859637 0.93705279 0.76932655 0.81707557\n",
      "  0.77594548 0.85645014 0.89233691 0.85407555 0.66378772 0.51460907\n",
      "  0.24942075 0.24141784]\n",
      " [0.95391779 0.95002547 0.91588725 0.75127077 0.83964598 0.80599587\n",
      "  0.74901229 0.77306096 0.84087623 0.85734276 0.63184017 0.39707284\n",
      "  0.23145507 0.24617073]\n",
      " [0.95610661 0.95592084 0.88953227 0.77391689 0.77627754 0.82978306\n",
      "  0.81255628 0.71366611 0.68259168 0.70995399 0.69311918 0.38368497\n",
      "  0.2883727  0.33943722]\n",
      " [0.96422887 0.95990325 0.88715582 0.83207591 0.84712177 0.90108568\n",
      "  0.83721288 0.80042234 0.69368159 0.55548233 0.45684713 0.39137161\n",
      "  0.21985661 0.29791981]\n",
      " [0.96446991 0.95647907 0.94865961 0.93608308 0.91952135 0.83373761\n",
      "  0.74326786 0.6375024  0.5734011  0.5444082  0.33245651 0.34256649\n",
      "  0.1243818  0.1739258 ]\n",
      " [0.98340576 0.97010752 0.95830007 0.93485051 0.86754424 0.82523917\n",
      "  0.71067849 0.49335901 0.48159661 0.57507116 0.31304601 0.15997923\n",
      "  0.06019923 0.17542774]\n",
      " [0.96812862 0.97536755 0.9614507  0.95409473 0.90776684 0.87446226\n",
      "  0.71399074 0.48477929 0.6059524  0.5665625  0.30292441 0.2407161\n",
      "  0.0325369  0.17678618]\n",
      " [0.96203448 0.97425109 0.95955772 0.92759113 0.92888176 0.87622242\n",
      "  0.75637151 0.71576947 0.67228245 0.53253016 0.34299655 0.21433511\n",
      "  0.         0.19278271]]\n"
     ]
    }
   ],
   "source": [
    "print(data_scaled)"
   ],
   "metadata": {
    "collapsed": false
   }
  },
  {
   "cell_type": "code",
   "execution_count": 229,
   "outputs": [
    {
     "data": {
      "text/plain": "<Figure size 640x480 with 2 Axes>",
      "image/png": "[encoded data removed]"
     },
     "metadata": {},
     "output_type": "display_data"
    },
    {
     "data": {
      "text/plain": "<Figure size 640x480 with 2 Axes>",
      "image/png": "[encoded data removed]"
     },
     "metadata": {},
     "output_type": "display_data"
    },
    {
     "data": {
      "text/plain": "<Figure size 640x480 with 2 Axes>",
      "image/png": "[encoded data removed]"
     },
     "metadata": {},
     "output_type": "display_data"
    },
    {
     "data": {
      "text/plain": "<Figure size 640x480 with 1 Axes>",
      "image/png": "[encoded data removed]"
     },
     "metadata": {},
     "output_type": "display_data"
    },
    {
     "data": {
      "text/plain": "<Figure size 640x480 with 1 Axes>",
      "image/png": "[encoded data removed]"
     },
     "metadata": {},
     "output_type": "display_data"
    }
   ],
   "source": [
    "plt.imshow(data.T, cmap='gray')\n",
    "plt.colorbar()\n",
    "plt.show()\n",
    "plt.imshow(data_scaled.T, cmap='gray')\n",
    "plt.colorbar()\n",
    "plt.show()\n",
    "\n",
    "plt.imshow(data_new, cmap='gray')\n",
    "plt.colorbar()\n",
    "plt.show()\n",
    "\n",
    "\n",
    "e_c = np.zeros((data_scaled.shape[1],data_scaled.shape[0],3)).astype(int)\n",
    "for i in range(len(data_scaled.T)):\n",
    "    for j in range(len(data_scaled.T[i])):\n",
    "        e_c[i,j] = cbar(data_scaled.T[i,j])\n",
    "plt.imshow(e_c)\n",
    "plt.show()\n",
    "\n",
    "data_c = np.zeros((data_new.shape[0],data_new.shape[1],3)).astype(int)\n",
    "for i in range(len(data_new)):\n",
    "    for j in range(len(data_new[i])):\n",
    "        data_c[i,j] = cbar(data_new[i,j])\n",
    "\n",
    "plt.imshow(data_c)\n",
    "plt.show()\n",
    "# plt.imshow(data_c[ min_lat_idx:max_lat_idx+1, min_lng_idx:max_lng_idx+1])\n",
    "# plt.show()\n",
    "\n"
   ],
   "metadata": {
    "collapsed": false
   }
  },
  {
   "cell_type": "markdown",
   "source": [
    "# create new dem file"
   ],
   "metadata": {
    "collapsed": false
   }
  },
  {
   "cell_type": "code",
   "execution_count": 142,
   "outputs": [],
   "source": [
    "new_dem_lngs = dem_lngs[min_lng_idx:max_lng_idx+1]\n",
    "new_dem_lats = dem_lats[min_lat_idx:max_lat_idx+1]\n",
    "new_dem_elevation = elevation[min_lat_idx:max_lat_idx+1, min_lng_idx:max_lng_idx+1]\n"
   ],
   "metadata": {
    "collapsed": false
   }
  },
  {
   "cell_type": "code",
   "execution_count": 148,
   "outputs": [
    {
     "name": "stdout",
     "output_type": "stream",
     "text": [
      "[35.88625    35.88541667 35.88458333] [35.54458333 35.54375    35.54291667]\n",
      "[-83.97625    -83.97541667 -83.97458333] [-83.55541667 -83.55458333 -83.55375   ]\n",
      "413 508\n",
      "(413, 508)\n",
      "35.54208333333333\n",
      "-83.55291666666666\n"
     ]
    }
   ],
   "source": [
    "print(new_dem_lats[:3], new_dem_lats[-3:])\n",
    "print(new_dem_lngs[:3], new_dem_lngs[-3:])\n",
    "print(len(new_dem_lats),len(new_dem_lngs))\n",
    "print(new_dem_elevation.shape)\n",
    "print(new_dem_lats[0] + (413)*dem.meta['transform'][4])\n",
    "print(new_dem_lngs[0] + (508)*dem.meta['transform'][0])\n"
   ],
   "metadata": {
    "collapsed": false
   }
  },
  {
   "cell_type": "code",
   "execution_count": 145,
   "outputs": [
    {
     "name": "stdout",
     "output_type": "stream",
     "text": [
      "{'driver': 'GTiff', 'dtype': 'int16', 'nodata': None, 'width': 2401, 'height': 2401, 'count': 1, 'crs': CRS.from_epsg(4267), 'transform': Affine(0.0008333333333333334, 0.0, -85.00041666666667,\n",
      "       0.0, -0.0008333333333333334, 37.000416666666666)}\n",
      "{'driver': 'GTiff', 'dtype': 'int16', 'nodata': None, 'width': 508, 'height': 413, 'count': 1, 'crs': CRS.from_epsg(4267), 'transform': Affine(0.0008333333333333334, 0.0, -83.97625,\n",
      "       0.0, -0.0008333333333333334, 35.88625)}\n"
     ]
    }
   ],
   "source": [
    "out_meta = dem.meta.copy()\n",
    "out_transform = rio.transform.Affine(\n",
    "    dem.meta['transform'][0], dem.meta['transform'][1], new_dem_lngs[0],\n",
    "    dem.meta['transform'][3], dem.meta['transform'][4], new_dem_lats[0],\n",
    ")\n",
    "print(out_meta)\n",
    "out_meta.update({'driver':'GTiff',\n",
    "                 'width': len(new_dem_lngs),\n",
    "                 'height': len(new_dem_lats),\n",
    "                 'dtype':'int16',\n",
    "                 'transform':out_transform})\n",
    "print(out_meta)\n",
    "with rio.open(os.path.join('..', 'ndvi.tiff'), 'w', **out_meta) as dst:\n",
    "    dst.write_band(1, new_dem_elevation.astype(rio.int16))"
   ],
   "metadata": {
    "collapsed": false
   }
  },
  {
   "cell_type": "code",
   "execution_count": 94,
   "outputs": [
    {
     "data": {
      "text/plain": "Affine(0.0008333333333333334, 0.0, -85.00041666666667,\n       0.0, -0.0008333333333333334, 37.000416666666666)"
     },
     "execution_count": 94,
     "metadata": {},
     "output_type": "execute_result"
    }
   ],
   "source": [
    "dem.meta['transform']\n"
   ],
   "metadata": {
    "collapsed": false
   }
  },
  {
   "cell_type": "code",
   "execution_count": 39,
   "outputs": [
    {
     "data": {
      "text/plain": "-83.97666666666666"
     },
     "execution_count": 39,
     "metadata": {},
     "output_type": "execute_result"
    }
   ],
   "source": [
    "new_dem_lngs[0]"
   ],
   "metadata": {
    "collapsed": false
   }
  },
  {
   "cell_type": "code",
   "execution_count": 40,
   "outputs": [
    {
     "data": {
      "text/plain": "-85.00041666666667"
     },
     "execution_count": 40,
     "metadata": {},
     "output_type": "execute_result"
    }
   ],
   "source": [
    "out_transform[2]"
   ],
   "metadata": {
    "collapsed": false
   }
  },
  {
   "cell_type": "code",
   "execution_count": 49,
   "outputs": [
    {
     "name": "stdout",
     "output_type": "stream",
     "text": [
      "| 0.00, 0.00,-85.00|\n",
      "| 0.00,-0.00, 37.00|\n",
      "| 0.00, 0.00, 1.00|\n"
     ]
    }
   ],
   "source": [
    "dem.transform"
   ],
   "metadata": {
    "collapsed": false
   }
  },
  {
   "cell_type": "code",
   "execution_count": 44,
   "outputs": [
    {
     "data": {
      "text/plain": "Affine(0.0008333333333333334, 0.0, -83.97666666666666,\n       0.0, -0.0008333333333333334, 35.88666666666666)"
     },
     "execution_count": 44,
     "metadata": {},
     "output_type": "execute_result"
    }
   ],
   "source": [
    "out_transform"
   ],
   "metadata": {
    "collapsed": false
   }
  },
  {
   "cell_type": "code",
   "execution_count": 57,
   "outputs": [
    {
     "name": "stdout",
     "output_type": "stream",
     "text": [
      "509 413\n"
     ]
    },
    {
     "data": {
      "text/plain": "(413, 509)"
     },
     "execution_count": 57,
     "metadata": {},
     "output_type": "execute_result"
    }
   ],
   "source": [
    "print(len(new_dem_lngs), len(new_dem_lats))\n",
    "new_dem_elevation.shape"
   ],
   "metadata": {
    "collapsed": false
   }
  },
  {
   "cell_type": "code",
   "execution_count": 58,
   "outputs": [
    {
     "data": {
      "text/plain": "CRS.from_epsg(4267)"
     },
     "execution_count": 58,
     "metadata": {},
     "output_type": "execute_result"
    }
   ],
   "source": [
    "out_meta['crs']"
   ],
   "metadata": {
    "collapsed": false
   }
  },
  {
   "cell_type": "code",
   "execution_count": 71,
   "outputs": [
    {
     "data": {
      "text/plain": "35.54333333347066"
     },
     "execution_count": 71,
     "metadata": {},
     "output_type": "execute_result"
    }
   ],
   "source": [
    "35.886666666666666666 + -0.000833333333*412"
   ],
   "metadata": {
    "collapsed": false
   }
  },
  {
   "cell_type": "code",
   "execution_count": 76,
   "outputs": [
    {
     "data": {
      "text/plain": "35.46333333350266"
     },
     "execution_count": 76,
     "metadata": {},
     "output_type": "execute_result"
    }
   ],
   "source": [
    "35.886666666666666666 + -0.000833333333*508"
   ],
   "metadata": {
    "collapsed": false
   }
  },
  {
   "cell_type": "code",
   "execution_count": 32,
   "outputs": [
    {
     "name": "stdout",
     "output_type": "stream",
     "text": [
      "35.88666666666666 35.54333333333334\n",
      "-83.97666666666666 -83.55333333333333\n"
     ]
    }
   ],
   "source": [
    "print(new_dem_lats[0], new_dem_lats[-1])\n",
    "print(new_dem_lngs[0], new_dem_lngs[-1])\n"
   ],
   "metadata": {
    "collapsed": false
   }
  },
  {
   "cell_type": "code",
   "execution_count": 79,
   "outputs": [
    {
     "name": "stdout",
     "output_type": "stream",
     "text": [
      "[-85.0, -84.99916666666667, -84.99833333333333, -84.9975, -84.99666666666667, -84.99583333333334, -84.995, -84.99416666666667, -84.99333333333334, -84.9925, -84.99166666666666, -84.99083333333333, -84.99, -84.98916666666666, -84.98833333333333, -84.9875, -84.98666666666666, -84.98583333333333, -84.985, -84.98416666666667, -84.98333333333333, -84.9825, -84.98166666666667, -84.98083333333334, -84.98, -84.97916666666667, -84.97833333333334, -84.9775, -84.97666666666667, -84.97583333333333, -84.975, -84.97416666666666, -84.97333333333333, -84.9725, -84.97166666666666, -84.97083333333333, -84.97, -84.96916666666667, -84.96833333333333, -84.9675, -84.96666666666667, -84.96583333333334, -84.965, -84.96416666666667, -84.96333333333334, -84.9625, -84.96166666666667, -84.96083333333333, -84.96, -84.95916666666666, -84.95833333333333, -84.9575, -84.95666666666666, -84.95583333333333, -84.955, -84.95416666666667, -84.95333333333333, -84.9525, -84.95166666666667, -84.95083333333334, -84.95, -84.94916666666667, -84.94833333333334, -84.9475, -84.94666666666667, -84.94583333333334, -84.945, -84.94416666666666, -84.94333333333333, -84.9425, -84.94166666666666, -84.94083333333333, -84.94, -84.93916666666667, -84.93833333333333, -84.9375, -84.93666666666667, -84.93583333333333, -84.935, -84.93416666666667, -84.93333333333334, -84.9325, -84.93166666666667, -84.93083333333334, -84.93, -84.92916666666666, -84.92833333333333, -84.9275, -84.92666666666666, -84.92583333333333, -84.925, -84.92416666666666, -84.92333333333333, -84.9225, -84.92166666666667, -84.92083333333333, -84.92, -84.91916666666667, -84.91833333333334, -84.9175, -84.91666666666667, -84.91583333333334, -84.915, -84.91416666666667, -84.91333333333333, -84.9125, -84.91166666666666, -84.91083333333333, -84.91, -84.90916666666666, -84.90833333333333, -84.9075, -84.90666666666667, -84.90583333333333, -84.905, -84.90416666666667, -84.90333333333334, -84.9025, -84.90166666666667, -84.90083333333334, -84.9, -84.89916666666667, -84.89833333333333, -84.8975, -84.89666666666666, -84.89583333333333, -84.895, -84.89416666666666, -84.89333333333333, -84.8925, -84.89166666666667, -84.89083333333333, -84.89, -84.88916666666667, -84.88833333333334, -84.8875, -84.88666666666667, -84.88583333333334, -84.885, -84.88416666666667, -84.88333333333334, -84.8825, -84.88166666666666, -84.88083333333333, -84.88, -84.87916666666666, -84.87833333333333, -84.8775, -84.87666666666667, -84.87583333333333, -84.875, -84.87416666666667, -84.87333333333333, -84.8725, -84.87166666666667, -84.87083333333334, -84.87, -84.86916666666667, -84.86833333333334, -84.8675, -84.86666666666666, -84.86583333333333, -84.865, -84.86416666666666, -84.86333333333333, -84.8625, -84.86166666666666, -84.86083333333333, -84.86, -84.85916666666667, -84.85833333333333, -84.8575, -84.85666666666667, -84.85583333333334, -84.855, -84.85416666666667, -84.85333333333334, -84.8525, -84.85166666666667, -84.85083333333333, -84.85, -84.84916666666666, -84.84833333333333, -84.8475, -84.84666666666666, -84.84583333333333, -84.845, -84.84416666666667, -84.84333333333333, -84.8425, -84.84166666666667, -84.84083333333334, -84.84, -84.83916666666667, -84.83833333333334, -84.8375, -84.83666666666667, -84.83583333333333, -84.835, -84.83416666666666, -84.83333333333333, -84.8325, -84.83166666666666, -84.83083333333333, -84.83, -84.82916666666667, -84.82833333333333, -84.8275, -84.82666666666667, -84.82583333333334, -84.825, -84.82416666666667, -84.82333333333334, -84.8225, -84.82166666666667, -84.82083333333334, -84.82, -84.81916666666666, -84.81833333333333, -84.8175, -84.81666666666666, -84.81583333333333, -84.815, -84.81416666666667, -84.81333333333333, -84.8125, -84.81166666666667, -84.81083333333333, -84.81, -84.80916666666667, -84.80833333333334, -84.8075, -84.80666666666667, -84.80583333333334, -84.805, -84.80416666666666, -84.80333333333333, -84.8025, -84.80166666666666, -84.80083333333333, -84.8, -84.79916666666666, -84.79833333333333, -84.7975, -84.79666666666667, -84.79583333333333, -84.795, -84.79416666666667, -84.79333333333334, -84.7925, -84.79166666666667, -84.79083333333334, -84.79, -84.78916666666667, -84.78833333333333, -84.7875, -84.78666666666666, -84.78583333333333, -84.785, -84.78416666666666, -84.78333333333333, -84.7825, -84.78166666666667, -84.78083333333333, -84.78, -84.77916666666667, -84.77833333333334, -84.7775, -84.77666666666667, -84.77583333333334, -84.775, -84.77416666666667, -84.77333333333333, -84.7725, -84.77166666666666, -84.77083333333333, -84.77, -84.76916666666666, -84.76833333333333, -84.7675, -84.76666666666667, -84.76583333333333, -84.765, -84.76416666666667, -84.76333333333334, -84.7625, -84.76166666666667, -84.76083333333334, -84.76, -84.75916666666667, -84.75833333333334, -84.7575, -84.75666666666666, -84.75583333333333, -84.755, -84.75416666666666, -84.75333333333333, -84.7525, -84.75166666666667, -84.75083333333333, -84.75, -84.74916666666667, -84.74833333333333, -84.7475, -84.74666666666667, -84.74583333333334, -84.745, -84.74416666666667, -84.74333333333334, -84.7425, -84.74166666666666, -84.74083333333333, -84.74, -84.73916666666666, -84.73833333333333, -84.7375, -84.73666666666666, -84.73583333333333, -84.735, -84.73416666666667, -84.73333333333333, -84.7325, -84.73166666666667, -84.73083333333334, -84.73, -84.72916666666667, -84.72833333333334, -84.7275, -84.72666666666667, -84.72583333333333, -84.725, -84.72416666666666, -84.72333333333333, -84.7225, -84.72166666666666, -84.72083333333333, -84.72, -84.71916666666667, -84.71833333333333, -84.7175, -84.71666666666667, -84.71583333333334, -84.715, -84.71416666666667, -84.71333333333334, -84.7125, -84.71166666666667, -84.71083333333333, -84.71, -84.70916666666666, -84.70833333333333, -84.7075, -84.70666666666666, -84.70583333333333, -84.705, -84.70416666666667, -84.70333333333333, -84.7025, -84.70166666666667, -84.70083333333334, -84.7, -84.69916666666667, -84.69833333333334, -84.6975, -84.69666666666667, -84.69583333333334, -84.695, -84.69416666666666, -84.69333333333333, -84.6925, -84.69166666666666, -84.69083333333333, -84.69, -84.68916666666667, -84.68833333333333, -84.6875, -84.68666666666667, -84.68583333333333, -84.685, -84.68416666666667, -84.68333333333334, -84.6825, -84.68166666666667, -84.68083333333334, -84.68, -84.67916666666666, -84.67833333333333, -84.6775, -84.67666666666666, -84.67583333333333, -84.675, -84.67416666666666, -84.67333333333333, -84.6725, -84.67166666666667, -84.67083333333333, -84.67, -84.66916666666667, -84.66833333333334, -84.6675, -84.66666666666667, -84.66583333333334, -84.665, -84.66416666666667, -84.66333333333333, -84.6625, -84.66166666666666, -84.66083333333333, -84.66, -84.65916666666666, -84.65833333333333, -84.6575, -84.65666666666667, -84.65583333333333, -84.655, -84.65416666666667, -84.65333333333334, -84.6525, -84.65166666666667, -84.65083333333334, -84.65, -84.64916666666667, -84.64833333333333, -84.6475, -84.64666666666666, -84.64583333333333, -84.645, -84.64416666666666, -84.64333333333333, -84.6425, -84.64166666666667, -84.64083333333333, -84.64, -84.63916666666667, -84.63833333333334, -84.6375, -84.63666666666667, -84.63583333333334, -84.635, -84.63416666666667, -84.63333333333334, -84.6325, -84.63166666666666, -84.63083333333333, -84.63, -84.62916666666666, -84.62833333333333, -84.6275, -84.62666666666667, -84.62583333333333, -84.625, -84.62416666666667, -84.62333333333333, -84.6225, -84.62166666666667, -84.62083333333334, -84.62, -84.61916666666667, -84.61833333333334, -84.6175, -84.61666666666666, -84.61583333333333, -84.615, -84.61416666666666, -84.61333333333333, -84.6125, -84.61166666666666, -84.61083333333333, -84.61, -84.60916666666667, -84.60833333333333, -84.6075, -84.60666666666667, -84.60583333333334, -84.605, -84.60416666666667, -84.60333333333334, -84.6025, -84.60166666666667, -84.60083333333333, -84.6, -84.59916666666666, -84.59833333333333, -84.5975, -84.59666666666666, -84.59583333333333, -84.595, -84.59416666666667, -84.59333333333333, -84.5925, -84.59166666666667, -84.59083333333334, -84.59, -84.58916666666667, -84.58833333333334, -84.5875, -84.58666666666667, -84.58583333333333, -84.585, -84.58416666666666, -84.58333333333333, -84.5825, -84.58166666666666, -84.58083333333333, -84.58, -84.57916666666667, -84.57833333333333, -84.5775, -84.57666666666667, -84.57583333333334, -84.575, -84.57416666666667, -84.57333333333334, -84.5725, -84.57166666666667, -84.57083333333334, -84.57, -84.56916666666666, -84.56833333333333, -84.5675, -84.56666666666666, -84.56583333333333, -84.565, -84.56416666666667, -84.56333333333333, -84.5625, -84.56166666666667, -84.56083333333333, -84.56, -84.55916666666667, -84.55833333333334, -84.5575, -84.55666666666667, -84.55583333333334, -84.555, -84.55416666666666, -84.55333333333333, -84.5525, -84.55166666666666, -84.55083333333333, -84.55, -84.54916666666666, -84.54833333333333, -84.5475, -84.54666666666667, -84.54583333333333, -84.545, -84.54416666666667, -84.54333333333334, -84.5425, -84.54166666666667, -84.54083333333334, -84.54, -84.53916666666667, -84.53833333333333, -84.5375, -84.53666666666666, -84.53583333333333, -84.535, -84.53416666666666, -84.53333333333333, -84.5325, -84.53166666666667, -84.53083333333333, -84.53, -84.52916666666667, -84.52833333333334, -84.5275, -84.52666666666667, -84.52583333333334, -84.525, -84.52416666666667, -84.52333333333333, -84.5225, -84.52166666666666, -84.52083333333333, -84.52, -84.51916666666666, -84.51833333333333, -84.5175, -84.51666666666667, -84.51583333333333, -84.515, -84.51416666666667, -84.51333333333334, -84.5125, -84.51166666666667, -84.51083333333334, -84.51, -84.50916666666667, -84.50833333333334, -84.5075, -84.50666666666666, -84.50583333333333, -84.505, -84.50416666666666, -84.50333333333333, -84.5025, -84.50166666666667, -84.50083333333333, -84.5, -84.49916666666667, -84.49833333333333, -84.4975, -84.49666666666667, -84.49583333333334, -84.495, -84.49416666666667, -84.49333333333334, -84.4925, -84.49166666666666, -84.49083333333333, -84.49, -84.48916666666666, -84.48833333333333, -84.4875, -84.48666666666666, -84.48583333333333, -84.485, -84.48416666666667, -84.48333333333333, -84.4825, -84.48166666666667, -84.48083333333334, -84.48, -84.47916666666667, -84.47833333333334, -84.4775, -84.47666666666667, -84.47583333333333, -84.475, -84.47416666666666, -84.47333333333333, -84.4725, -84.47166666666666, -84.47083333333333, -84.47, -84.46916666666667, -84.46833333333333, -84.4675, -84.46666666666667, -84.46583333333334, -84.465, -84.46416666666667, -84.46333333333334, -84.4625, -84.46166666666667, -84.46083333333333, -84.46, -84.45916666666666, -84.45833333333333, -84.4575, -84.45666666666666, -84.45583333333333, -84.455, -84.45416666666667, -84.45333333333333, -84.4525, -84.45166666666667, -84.45083333333334, -84.45, -84.44916666666667, -84.44833333333334, -84.4475, -84.44666666666667, -84.44583333333334, -84.445, -84.44416666666666, -84.44333333333333, -84.4425, -84.44166666666666, -84.44083333333333, -84.44, -84.43916666666667, -84.43833333333333, -84.4375, -84.43666666666667, -84.43583333333333, -84.435, -84.43416666666667, -84.43333333333334, -84.4325, -84.43166666666667, -84.43083333333334, -84.43, -84.42916666666666, -84.42833333333333, -84.4275, -84.42666666666666, -84.42583333333333, -84.425, -84.42416666666666, -84.42333333333333, -84.4225, -84.42166666666667, -84.42083333333333, -84.42, -84.41916666666667, -84.41833333333334, -84.4175, -84.41666666666667, -84.41583333333334, -84.415, -84.41416666666667, -84.41333333333333, -84.4125, -84.41166666666666, -84.41083333333333, -84.41, -84.40916666666666, -84.40833333333333, -84.4075, -84.40666666666667, -84.40583333333333, -84.405, -84.40416666666667, -84.40333333333334, -84.4025, -84.40166666666667, -84.40083333333334, -84.4, -84.39916666666667, -84.39833333333333, -84.3975, -84.39666666666666, -84.39583333333333, -84.395, -84.39416666666666, -84.39333333333333, -84.3925, -84.39166666666667, -84.39083333333333, -84.39, -84.38916666666667, -84.38833333333334, -84.3875, -84.38666666666667, -84.38583333333334, -84.385, -84.38416666666667, -84.38333333333334, -84.3825, -84.38166666666666, -84.38083333333333, -84.38, -84.37916666666666, -84.37833333333333, -84.3775, -84.37666666666667, -84.37583333333333, -84.375, -84.37416666666667, -84.37333333333333, -84.3725, -84.37166666666667, -84.37083333333334, -84.37, -84.36916666666667, -84.36833333333334, -84.3675, -84.36666666666666, -84.36583333333333, -84.365, -84.36416666666666, -84.36333333333333, -84.3625, -84.36166666666666, -84.36083333333333, -84.36, -84.35916666666667, -84.35833333333333, -84.3575, -84.35666666666667, -84.35583333333334, -84.355, -84.35416666666667, -84.35333333333334, -84.3525, -84.35166666666666, -84.35083333333333, -84.35, -84.34916666666666, -84.34833333333333, -84.3475, -84.34666666666666, -84.34583333333333, -84.345, -84.34416666666667, -84.34333333333333, -84.3425, -84.34166666666667, -84.34083333333334, -84.34, -84.33916666666667, -84.33833333333334, -84.3375, -84.33666666666667, -84.33583333333333, -84.335, -84.33416666666666, -84.33333333333333, -84.3325, -84.33166666666666, -84.33083333333333, -84.33, -84.32916666666667, -84.32833333333333, -84.3275, -84.32666666666667, -84.32583333333334, -84.325, -84.32416666666667, -84.32333333333334, -84.3225, -84.32166666666667, -84.32083333333334, -84.32, -84.31916666666666, -84.31833333333333, -84.3175, -84.31666666666666, -84.31583333333333, -84.315, -84.31416666666667, -84.31333333333333, -84.3125, -84.31166666666667, -84.31083333333333, -84.31, -84.30916666666667, -84.30833333333334, -84.3075, -84.30666666666667, -84.30583333333334, -84.305, -84.30416666666666, -84.30333333333333, -84.3025, -84.30166666666666, -84.30083333333333, -84.3, -84.29916666666666, -84.29833333333333, -84.2975, -84.29666666666667, -84.29583333333333, -84.295, -84.29416666666667, -84.29333333333334, -84.2925, -84.29166666666667, -84.29083333333334, -84.29, -84.28916666666666, -84.28833333333333, -84.2875, -84.28666666666666, -84.28583333333333, -84.285, -84.28416666666666, -84.28333333333333, -84.2825, -84.28166666666667, -84.28083333333333, -84.28, -84.27916666666667, -84.27833333333334, -84.2775, -84.27666666666667, -84.27583333333334, -84.275, -84.27416666666667, -84.27333333333333, -84.2725, -84.27166666666666, -84.27083333333333, -84.27, -84.26916666666666, -84.26833333333333, -84.2675, -84.26666666666667, -84.26583333333333, -84.265, -84.26416666666667, -84.26333333333334, -84.2625, -84.26166666666667, -84.26083333333334, -84.26, -84.25916666666667, -84.25833333333334, -84.2575, -84.25666666666666, -84.25583333333333, -84.255, -84.25416666666666, -84.25333333333333, -84.2525, -84.25166666666667, -84.25083333333333, -84.25, -84.24916666666667, -84.24833333333333, -84.2475, -84.24666666666667, -84.24583333333334, -84.245, -84.24416666666667, -84.24333333333334, -84.2425, -84.24166666666666, -84.24083333333333, -84.24, -84.23916666666666, -84.23833333333333, -84.2375, -84.23666666666666, -84.23583333333333, -84.235, -84.23416666666667, -84.23333333333333, -84.2325, -84.23166666666667, -84.23083333333334, -84.23, -84.22916666666667, -84.22833333333334, -84.2275, -84.22666666666666, -84.22583333333333, -84.225, -84.22416666666666, -84.22333333333333, -84.2225, -84.22166666666666, -84.22083333333333, -84.22, -84.21916666666667, -84.21833333333333, -84.2175, -84.21666666666667, -84.21583333333334, -84.215, -84.21416666666667, -84.21333333333334, -84.2125, -84.21166666666667, -84.21083333333333, -84.21, -84.20916666666666, -84.20833333333333, -84.2075, -84.20666666666666, -84.20583333333333, -84.205, -84.20416666666667, -84.20333333333333, -84.2025, -84.20166666666667, -84.20083333333334, -84.2, -84.19916666666667, -84.19833333333334, -84.1975, -84.19666666666667, -84.19583333333334, -84.195, -84.19416666666666, -84.19333333333333, -84.1925, -84.19166666666666, -84.19083333333333, -84.19, -84.18916666666667, -84.18833333333333, -84.1875, -84.18666666666667, -84.18583333333333, -84.185, -84.18416666666667, -84.18333333333334, -84.1825, -84.18166666666667, -84.18083333333334, -84.18, -84.17916666666666, -84.17833333333333, -84.1775, -84.17666666666666, -84.17583333333333, -84.175, -84.17416666666666, -84.17333333333333, -84.1725, -84.17166666666667, -84.17083333333333, -84.17, -84.16916666666667, -84.16833333333334, -84.1675, -84.16666666666667, -84.16583333333334, -84.165, -84.16416666666666, -84.16333333333333, -84.1625, -84.16166666666666, -84.16083333333333, -84.16, -84.15916666666666, -84.15833333333333, -84.1575, -84.15666666666667, -84.15583333333333, -84.155, -84.15416666666667, -84.15333333333334, -84.1525, -84.15166666666667, -84.15083333333334, -84.15, -84.14916666666667, -84.14833333333333, -84.1475, -84.14666666666666, -84.14583333333333, -84.145, -84.14416666666666, -84.14333333333333, -84.1425, -84.14166666666667, -84.14083333333333, -84.14, -84.13916666666667, -84.13833333333334, -84.1375, -84.13666666666667, -84.13583333333334, -84.135, -84.13416666666667, -84.13333333333334, -84.1325, -84.13166666666666, -84.13083333333333, -84.13, -84.12916666666666, -84.12833333333333, -84.1275, -84.12666666666667, -84.12583333333333, -84.125, -84.12416666666667, -84.12333333333333, -84.1225, -84.12166666666667, -84.12083333333334, -84.12, -84.11916666666667, -84.11833333333334, -84.1175, -84.11666666666666, -84.11583333333333, -84.115, -84.11416666666666, -84.11333333333333, -84.1125, -84.11166666666666, -84.11083333333333, -84.11, -84.10916666666667, -84.10833333333333, -84.1075, -84.10666666666667, -84.10583333333334, -84.105, -84.10416666666667, -84.10333333333334, -84.1025, -84.10166666666666, -84.10083333333333, -84.1, -84.09916666666666, -84.09833333333333, -84.0975, -84.09666666666666, -84.09583333333333, -84.095, -84.09416666666667, -84.09333333333333, -84.0925, -84.09166666666667, -84.09083333333334, -84.09, -84.08916666666667, -84.08833333333334, -84.0875, -84.08666666666667, -84.08583333333333, -84.085, -84.08416666666666, -84.08333333333333, -84.0825, -84.08166666666666, -84.08083333333333, -84.08, -84.07916666666667, -84.07833333333333, -84.0775, -84.07666666666667, -84.07583333333334, -84.075, -84.07416666666667, -84.07333333333334, -84.0725, -84.07166666666667, -84.07083333333334, -84.07, -84.06916666666666, -84.06833333333333, -84.0675, -84.06666666666666, -84.06583333333333, -84.065, -84.06416666666667, -84.06333333333333, -84.0625, -84.06166666666667, -84.06083333333333, -84.06, -84.05916666666667, -84.05833333333334, -84.0575, -84.05666666666667, -84.05583333333334, -84.055, -84.05416666666666, -84.05333333333333, -84.0525, -84.05166666666666, -84.05083333333333, -84.05, -84.04916666666666, -84.04833333333333, -84.0475, -84.04666666666667, -84.04583333333333, -84.045, -84.04416666666667, -84.04333333333334, -84.0425, -84.04166666666667, -84.04083333333334, -84.04, -84.03916666666666, -84.03833333333333, -84.0375, -84.03666666666666, -84.03583333333333, -84.035, -84.03416666666666, -84.03333333333333, -84.0325, -84.03166666666667, -84.03083333333333, -84.03, -84.02916666666667, -84.02833333333334, -84.0275, -84.02666666666667, -84.02583333333334, -84.025, -84.02416666666667, -84.02333333333333, -84.0225, -84.02166666666666, -84.02083333333333, -84.02, -84.01916666666666, -84.01833333333333, -84.0175, -84.01666666666667, -84.01583333333333, -84.015, -84.01416666666667, -84.01333333333334, -84.0125, -84.01166666666667, -84.01083333333334, -84.01, -84.00916666666667, -84.00833333333334, -84.0075, -84.00666666666666, -84.00583333333333, -84.005, -84.00416666666666, -84.00333333333333, -84.0025, -84.00166666666667, -84.00083333333333, -84.0, -83.99916666666667, -83.99833333333333, -83.9975, -83.99666666666667, -83.99583333333334, -83.995, -83.99416666666667, -83.99333333333334, -83.9925, -83.99166666666666, -83.99083333333333, -83.99, -83.98916666666666, -83.98833333333333, -83.9875, -83.98666666666666, -83.98583333333333, -83.985, -83.98416666666667, -83.98333333333333, -83.9825, -83.98166666666667, -83.98083333333334, -83.98, -83.97916666666667, -83.97833333333334, -83.9775, -83.97666666666666, -83.97583333333333, -83.975, -83.97416666666666, -83.97333333333333, -83.9725, -83.97166666666666, -83.97083333333333, -83.97, -83.96916666666667, -83.96833333333333, -83.9675, -83.96666666666667, -83.96583333333334, -83.965, -83.96416666666667, -83.96333333333334, -83.9625, -83.96166666666667, -83.96083333333333, -83.96, -83.95916666666666, -83.95833333333333, -83.9575, -83.95666666666666, -83.95583333333333, -83.955, -83.95416666666667, -83.95333333333333, -83.9525, -83.95166666666667, -83.95083333333334, -83.95, -83.94916666666667, -83.94833333333334, -83.9475, -83.94666666666667, -83.94583333333334, -83.945, -83.94416666666666, -83.94333333333333, -83.9425, -83.94166666666666, -83.94083333333333, -83.94, -83.93916666666667, -83.93833333333333, -83.9375, -83.93666666666667, -83.93583333333333, -83.935, -83.93416666666667, -83.93333333333334, -83.9325, -83.93166666666667, -83.93083333333334, -83.93, -83.92916666666666, -83.92833333333333, -83.9275, -83.92666666666666, -83.92583333333333, -83.925, -83.92416666666666, -83.92333333333333, -83.9225, -83.92166666666667, -83.92083333333333, -83.92, -83.91916666666667, -83.91833333333334, -83.9175, -83.91666666666667, -83.91583333333334, -83.915, -83.91416666666666, -83.91333333333333, -83.9125, -83.91166666666666, -83.91083333333333, -83.91, -83.90916666666666, -83.90833333333333, -83.9075, -83.90666666666667, -83.90583333333333, -83.905, -83.90416666666667, -83.90333333333334, -83.9025, -83.90166666666667, -83.90083333333334, -83.9, -83.89916666666667, -83.89833333333333, -83.8975, -83.89666666666666, -83.89583333333333, -83.895, -83.89416666666666, -83.89333333333333, -83.8925, -83.89166666666667, -83.89083333333333, -83.89, -83.88916666666667, -83.88833333333334, -83.8875, -83.88666666666667, -83.88583333333334, -83.885, -83.88416666666667, -83.88333333333334, -83.8825, -83.88166666666666, -83.88083333333333, -83.88, -83.87916666666666, -83.87833333333333, -83.8775, -83.87666666666667, -83.87583333333333, -83.875, -83.87416666666667, -83.87333333333333, -83.8725, -83.87166666666667, -83.87083333333334, -83.87, -83.86916666666667, -83.86833333333334, -83.8675, -83.86666666666666, -83.86583333333333, -83.865, -83.86416666666666, -83.86333333333333, -83.8625, -83.86166666666666, -83.86083333333333, -83.86, -83.85916666666667, -83.85833333333333, -83.8575, -83.85666666666667, -83.85583333333334, -83.855, -83.85416666666667, -83.85333333333334, -83.8525, -83.85166666666666, -83.85083333333333, -83.85, -83.84916666666666, -83.84833333333333, -83.8475, -83.84666666666666, -83.84583333333333, -83.845, -83.84416666666667, -83.84333333333333, -83.8425, -83.84166666666667, -83.84083333333334, -83.84, -83.83916666666667, -83.83833333333334, -83.8375, -83.83666666666667, -83.83583333333333, -83.835, -83.83416666666666, -83.83333333333333, -83.8325, -83.83166666666666, -83.83083333333333, -83.83, -83.82916666666667, -83.82833333333333, -83.8275, -83.82666666666667, -83.82583333333334, -83.825, -83.82416666666667, -83.82333333333334, -83.8225, -83.82166666666667, -83.82083333333334, -83.82, -83.81916666666666, -83.81833333333333, -83.8175, -83.81666666666666, -83.81583333333333, -83.815, -83.81416666666667, -83.81333333333333, -83.8125, -83.81166666666667, -83.81083333333333, -83.81, -83.80916666666667, -83.80833333333334, -83.8075, -83.80666666666667, -83.80583333333334, -83.805, -83.80416666666666, -83.80333333333333, -83.8025, -83.80166666666666, -83.80083333333333, -83.8, -83.79916666666666, -83.79833333333333, -83.7975, -83.79666666666667, -83.79583333333333, -83.795, -83.79416666666667, -83.79333333333334, -83.7925, -83.79166666666667, -83.79083333333334, -83.79, -83.78916666666666, -83.78833333333333, -83.7875, -83.78666666666666, -83.78583333333333, -83.785, -83.78416666666666, -83.78333333333333, -83.7825, -83.78166666666667, -83.78083333333333, -83.78, -83.77916666666667, -83.77833333333334, -83.7775, -83.77666666666667, -83.77583333333334, -83.775, -83.77416666666667, -83.77333333333333, -83.7725, -83.77166666666666, -83.77083333333333, -83.77, -83.76916666666666, -83.76833333333333, -83.7675, -83.76666666666667, -83.76583333333333, -83.765, -83.76416666666667, -83.76333333333334, -83.7625, -83.76166666666667, -83.76083333333334, -83.76, -83.75916666666667, -83.75833333333334, -83.7575, -83.75666666666666, -83.75583333333333, -83.755, -83.75416666666666, -83.75333333333333, -83.7525, -83.75166666666667, -83.75083333333333, -83.75, -83.74916666666667, -83.74833333333333, -83.7475, -83.74666666666667, -83.74583333333334, -83.745, -83.74416666666667, -83.74333333333334, -83.7425, -83.74166666666666, -83.74083333333333, -83.74, -83.73916666666666, -83.73833333333333, -83.7375, -83.73666666666666, -83.73583333333333, -83.735, -83.73416666666667, -83.73333333333333, -83.7325, -83.73166666666667, -83.73083333333334, -83.73, -83.72916666666667, -83.72833333333334, -83.7275, -83.72666666666666, -83.72583333333333, -83.725, -83.72416666666666, -83.72333333333333, -83.7225, -83.72166666666666, -83.72083333333333, -83.72, -83.71916666666667, -83.71833333333333, -83.7175, -83.71666666666667, -83.71583333333334, -83.715, -83.71416666666667, -83.71333333333334, -83.7125, -83.71166666666667, -83.71083333333333, -83.71, -83.70916666666666, -83.70833333333333, -83.7075, -83.70666666666666, -83.70583333333333, -83.705, -83.70416666666667, -83.70333333333333, -83.7025, -83.70166666666667, -83.70083333333334, -83.7, -83.69916666666667, -83.69833333333334, -83.6975, -83.69666666666667, -83.69583333333334, -83.695, -83.69416666666666, -83.69333333333333, -83.6925, -83.69166666666666, -83.69083333333333, -83.69, -83.68916666666667, -83.68833333333333, -83.6875, -83.68666666666667, -83.68583333333333, -83.685, -83.68416666666667, -83.68333333333334, -83.6825, -83.68166666666667, -83.68083333333334, -83.68, -83.67916666666666, -83.67833333333333, -83.6775, -83.67666666666666, -83.67583333333333, -83.675, -83.67416666666666, -83.67333333333333, -83.6725, -83.67166666666667, -83.67083333333333, -83.67, -83.66916666666667, -83.66833333333334, -83.6675, -83.66666666666667, -83.66583333333334, -83.665, -83.66416666666666, -83.66333333333333, -83.6625, -83.66166666666666, -83.66083333333333, -83.66, -83.65916666666666, -83.65833333333333, -83.6575, -83.65666666666667, -83.65583333333333, -83.655, -83.65416666666667, -83.65333333333334, -83.6525, -83.65166666666667, -83.65083333333334, -83.65, -83.64916666666667, -83.64833333333333, -83.6475, -83.64666666666666, -83.64583333333333, -83.645, -83.64416666666666, -83.64333333333333, -83.6425, -83.64166666666667, -83.64083333333333, -83.64, -83.63916666666667, -83.63833333333334, -83.6375, -83.63666666666667, -83.63583333333334, -83.635, -83.63416666666667, -83.63333333333334, -83.6325, -83.63166666666666, -83.63083333333333, -83.63, -83.62916666666666, -83.62833333333333, -83.6275, -83.62666666666667, -83.62583333333333, -83.625, -83.62416666666667, -83.62333333333333, -83.6225, -83.62166666666667, -83.62083333333334, -83.62, -83.61916666666667, -83.61833333333334, -83.6175, -83.61666666666666, -83.61583333333333, -83.615, -83.61416666666666, -83.61333333333333, -83.6125, -83.61166666666666, -83.61083333333333, -83.61, -83.60916666666667, -83.60833333333333, -83.6075, -83.60666666666667, -83.60583333333334, -83.605, -83.60416666666667, -83.60333333333334, -83.6025, -83.60166666666666, -83.60083333333333, -83.6, -83.59916666666666, -83.59833333333333, -83.5975, -83.59666666666666, -83.59583333333333, -83.595, -83.59416666666667, -83.59333333333333, -83.5925, -83.59166666666667, -83.59083333333334, -83.59, -83.58916666666667, -83.58833333333334, -83.5875, -83.58666666666667, -83.58583333333333, -83.585, -83.58416666666666, -83.58333333333333, -83.5825, -83.58166666666666, -83.58083333333333, -83.58, -83.57916666666667, -83.57833333333333, -83.5775, -83.57666666666667, -83.57583333333334, -83.575, -83.57416666666667, -83.57333333333334, -83.5725, -83.57166666666667, -83.57083333333334, -83.57, -83.56916666666666, -83.56833333333333, -83.5675, -83.56666666666666, -83.56583333333333, -83.565, -83.56416666666667, -83.56333333333333, -83.5625, -83.56166666666667, -83.56083333333333, -83.56, -83.55916666666667, -83.55833333333334, -83.5575, -83.55666666666667, -83.55583333333334, -83.555, -83.55416666666666, -83.55333333333333, -83.5525, -83.55166666666666, -83.55083333333333, -83.55, -83.54916666666666, -83.54833333333333, -83.5475, -83.54666666666667, -83.54583333333333, -83.545, -83.54416666666667, -83.54333333333334, -83.5425, -83.54166666666667, -83.54083333333334, -83.54, -83.53916666666666, -83.53833333333333, -83.5375, -83.53666666666666, -83.53583333333333, -83.535, -83.53416666666666, -83.53333333333333, -83.5325, -83.53166666666667, -83.53083333333333, -83.53, -83.52916666666667, -83.52833333333334, -83.5275, -83.52666666666667, -83.52583333333334, -83.525, -83.52416666666667, -83.52333333333333, -83.5225, -83.52166666666666, -83.52083333333333, -83.52, -83.51916666666666, -83.51833333333333, -83.5175, -83.51666666666667, -83.51583333333333, -83.515, -83.51416666666667, -83.51333333333334, -83.5125, -83.51166666666667, -83.51083333333334, -83.51, -83.50916666666667, -83.50833333333334, -83.5075, -83.50666666666666, -83.50583333333333, -83.505, -83.50416666666666, -83.50333333333333, -83.5025, -83.50166666666667, -83.50083333333333, -83.5, -83.49916666666667, -83.49833333333333, -83.4975, -83.49666666666667, -83.49583333333334, -83.495, -83.49416666666667, -83.49333333333334, -83.4925, -83.49166666666666, -83.49083333333333, -83.49, -83.48916666666666, -83.48833333333333, -83.4875, -83.48666666666666, -83.48583333333333, -83.485, -83.48416666666667, -83.48333333333333, -83.4825, -83.48166666666667, -83.48083333333334, -83.48, -83.47916666666667, -83.47833333333334, -83.4775, -83.47666666666666, -83.47583333333333, -83.475, -83.47416666666666, -83.47333333333333, -83.4725, -83.47166666666666, -83.47083333333333, -83.47, -83.46916666666667, -83.46833333333333, -83.4675, -83.46666666666667, -83.46583333333334, -83.465, -83.46416666666667, -83.46333333333334, -83.4625, -83.46166666666667, -83.46083333333333, -83.46, -83.45916666666666, -83.45833333333333, -83.4575, -83.45666666666666, -83.45583333333333, -83.455, -83.45416666666667, -83.45333333333333, -83.4525, -83.45166666666667, -83.45083333333334, -83.45, -83.44916666666667, -83.44833333333334, -83.4475, -83.44666666666667, -83.44583333333334, -83.445, -83.44416666666666, -83.44333333333333, -83.4425, -83.44166666666666, -83.44083333333333, -83.44, -83.43916666666667, -83.43833333333333, -83.4375, -83.43666666666667, -83.43583333333333, -83.435, -83.43416666666667, -83.43333333333334, -83.4325, -83.43166666666667, -83.43083333333334, -83.43, -83.42916666666666, -83.42833333333333, -83.4275, -83.42666666666666, -83.42583333333333, -83.425, -83.42416666666666, -83.42333333333333, -83.4225, -83.42166666666667, -83.42083333333333, -83.42, -83.41916666666667, -83.41833333333334, -83.4175, -83.41666666666667, -83.41583333333334, -83.415, -83.41416666666666, -83.41333333333333, -83.4125, -83.41166666666666, -83.41083333333333, -83.41, -83.40916666666666, -83.40833333333333, -83.4075, -83.40666666666667, -83.40583333333333, -83.405, -83.40416666666667, -83.40333333333334, -83.4025, -83.40166666666667, -83.40083333333334, -83.4, -83.39916666666667, -83.39833333333333, -83.3975, -83.39666666666666, -83.39583333333333, -83.395, -83.39416666666666, -83.39333333333333, -83.3925, -83.39166666666667, -83.39083333333333, -83.39, -83.38916666666667, -83.38833333333334, -83.3875, -83.38666666666667, -83.38583333333334, -83.385, -83.38416666666667, -83.38333333333334, -83.3825, -83.38166666666666, -83.38083333333333, -83.38, -83.37916666666666, -83.37833333333333, -83.3775, -83.37666666666667, -83.37583333333333, -83.375, -83.37416666666667, -83.37333333333333, -83.3725, -83.37166666666667, -83.37083333333334, -83.37, -83.36916666666667, -83.36833333333334, -83.3675, -83.36666666666666, -83.36583333333333, -83.365, -83.36416666666666, -83.36333333333333, -83.3625, -83.36166666666666, -83.36083333333333, -83.36, -83.35916666666667, -83.35833333333333, -83.3575, -83.35666666666667, -83.35583333333334, -83.355, -83.35416666666667, -83.35333333333334, -83.3525, -83.35166666666666, -83.35083333333333, -83.35, -83.34916666666666, -83.34833333333333, -83.3475, -83.34666666666666, -83.34583333333333, -83.345, -83.34416666666667, -83.34333333333333, -83.3425, -83.34166666666667, -83.34083333333334, -83.34, -83.33916666666667, -83.33833333333334, -83.3375, -83.33666666666667, -83.33583333333333, -83.335, -83.33416666666666, -83.33333333333333, -83.3325, -83.33166666666666, -83.33083333333333, -83.33, -83.32916666666667, -83.32833333333333, -83.3275, -83.32666666666667, -83.32583333333334, -83.325, -83.32416666666667, -83.32333333333334, -83.3225, -83.32166666666667, -83.32083333333334, -83.32, -83.31916666666666, -83.31833333333333, -83.3175, -83.31666666666666, -83.31583333333333, -83.315, -83.31416666666667, -83.31333333333333, -83.3125, -83.31166666666667, -83.31083333333333, -83.31, -83.30916666666667, -83.30833333333334, -83.3075, -83.30666666666667, -83.30583333333334, -83.305, -83.30416666666666, -83.30333333333333, -83.3025, -83.30166666666666, -83.30083333333333, -83.3, -83.29916666666666, -83.29833333333333, -83.2975, -83.29666666666667, -83.29583333333333, -83.295, -83.29416666666667, -83.29333333333334, -83.2925, -83.29166666666667, -83.29083333333334, -83.29, -83.28916666666666, -83.28833333333333, -83.2875, -83.28666666666666, -83.28583333333333, -83.285, -83.28416666666666, -83.28333333333333, -83.2825, -83.28166666666667, -83.28083333333333, -83.28, -83.27916666666667, -83.27833333333334, -83.2775, -83.27666666666667, -83.27583333333334, -83.275, -83.27416666666667, -83.27333333333333, -83.2725, -83.27166666666666, -83.27083333333333, -83.27, -83.26916666666666, -83.26833333333333, -83.2675, -83.26666666666667, -83.26583333333333, -83.265, -83.26416666666667, -83.26333333333334, -83.2625, -83.26166666666667, -83.26083333333334, -83.26, -83.25916666666667, -83.25833333333334, -83.2575, -83.25666666666666, -83.25583333333333, -83.255, -83.25416666666666, -83.25333333333333, -83.2525, -83.25166666666667, -83.25083333333333, -83.25, -83.24916666666667, -83.24833333333333, -83.2475, -83.24666666666667, -83.24583333333334, -83.245, -83.24416666666667, -83.24333333333334, -83.2425, -83.24166666666666, -83.24083333333333, -83.24, -83.23916666666666, -83.23833333333333, -83.2375, -83.23666666666666, -83.23583333333333, -83.235, -83.23416666666667, -83.23333333333333, -83.2325, -83.23166666666667, -83.23083333333334, -83.23, -83.22916666666667, -83.22833333333334, -83.2275, -83.22666666666666, -83.22583333333333, -83.225, -83.22416666666666, -83.22333333333333, -83.2225, -83.22166666666666, -83.22083333333333, -83.22, -83.21916666666667, -83.21833333333333, -83.2175, -83.21666666666667, -83.21583333333334, -83.215, -83.21416666666667, -83.21333333333334, -83.2125, -83.21166666666667, -83.21083333333333, -83.21, -83.20916666666666, -83.20833333333333, -83.2075, -83.20666666666666, -83.20583333333333, -83.205, -83.20416666666667, -83.20333333333333, -83.2025, -83.20166666666667, -83.20083333333334, -83.2, -83.19916666666667, -83.19833333333334, -83.1975, -83.19666666666667, -83.19583333333334, -83.195, -83.19416666666666, -83.19333333333333, -83.1925, -83.19166666666666, -83.19083333333333, -83.19, -83.18916666666667, -83.18833333333333, -83.1875, -83.18666666666667, -83.18583333333333, -83.185, -83.18416666666667, -83.18333333333334, -83.1825, -83.18166666666667, -83.18083333333334, -83.18, -83.17916666666666, -83.17833333333333, -83.1775, -83.17666666666666, -83.17583333333333, -83.175, -83.17416666666666, -83.17333333333333, -83.1725, -83.17166666666667, -83.17083333333333, -83.17, -83.16916666666667, -83.16833333333334, -83.1675, -83.16666666666667, -83.16583333333334, -83.165, -83.16416666666666, -83.16333333333333, -83.1625, -83.16166666666666, -83.16083333333333, -83.16, -83.15916666666666, -83.15833333333333, -83.1575, -83.15666666666667, -83.15583333333333, -83.155, -83.15416666666667, -83.15333333333334, -83.1525, -83.15166666666667, -83.15083333333334, -83.15, -83.14916666666667, -83.14833333333333, -83.1475, -83.14666666666666, -83.14583333333333, -83.145, -83.14416666666666, -83.14333333333333, -83.1425, -83.14166666666667, -83.14083333333333, -83.14, -83.13916666666667, -83.13833333333334, -83.1375, -83.13666666666667, -83.13583333333334, -83.135, -83.13416666666667, -83.13333333333334, -83.1325, -83.13166666666666, -83.13083333333333, -83.13, -83.12916666666666, -83.12833333333333, -83.1275, -83.12666666666667, -83.12583333333333, -83.125, -83.12416666666667, -83.12333333333333, -83.1225, -83.12166666666667, -83.12083333333334, -83.12, -83.11916666666667, -83.11833333333334, -83.1175, -83.11666666666666, -83.11583333333333, -83.115, -83.11416666666666, -83.11333333333333, -83.1125, -83.11166666666666, -83.11083333333333, -83.11, -83.10916666666667, -83.10833333333333, -83.1075, -83.10666666666667, -83.10583333333334, -83.105, -83.10416666666667, -83.10333333333334, -83.1025, -83.10166666666666, -83.10083333333333, -83.1, -83.09916666666666, -83.09833333333333, -83.0975, -83.09666666666666, -83.09583333333333, -83.095, -83.09416666666667, -83.09333333333333, -83.0925, -83.09166666666667, -83.09083333333334, -83.09, -83.08916666666667, -83.08833333333334, -83.0875, -83.08666666666667, -83.08583333333333, -83.085, -83.08416666666666, -83.08333333333333, -83.0825, -83.08166666666666, -83.08083333333333, -83.08, -83.07916666666667, -83.07833333333333, -83.0775, -83.07666666666667, -83.07583333333334, -83.075, -83.07416666666667, -83.07333333333334, -83.0725, -83.07166666666667, -83.07083333333334, -83.07, -83.06916666666666, -83.06833333333333, -83.0675, -83.06666666666666, -83.06583333333333, -83.065, -83.06416666666667, -83.06333333333333, -83.0625, -83.06166666666667, -83.06083333333333, -83.06, -83.05916666666667, -83.05833333333334, -83.0575, -83.05666666666667, -83.05583333333334, -83.055, -83.05416666666666, -83.05333333333333, -83.0525, -83.05166666666666, -83.05083333333333, -83.05, -83.04916666666666, -83.04833333333333, -83.0475, -83.04666666666667, -83.04583333333333, -83.045, -83.04416666666667, -83.04333333333334, -83.0425, -83.04166666666667, -83.04083333333334, -83.04, -83.03916666666666, -83.03833333333333, -83.0375, -83.03666666666666, -83.03583333333333, -83.035, -83.03416666666666, -83.03333333333333, -83.0325, -83.03166666666667, -83.03083333333333, -83.03, -83.02916666666667, -83.02833333333334, -83.0275, -83.02666666666667, -83.02583333333334, -83.025, -83.02416666666667, -83.02333333333333, -83.0225, -83.02166666666666, -83.02083333333333, -83.02, -83.01916666666666, -83.01833333333333, -83.0175, -83.01666666666667, -83.01583333333333, -83.015, -83.01416666666667, -83.01333333333334, -83.0125, -83.01166666666667, -83.01083333333334, -83.01, -83.00916666666667, -83.00833333333334, -83.0075, -83.00666666666666, -83.00583333333333, -83.005, -83.00416666666666, -83.00333333333333, -83.0025, -83.00166666666667, -83.00083333333333, -83.0]\n"
     ]
    }
   ],
   "source": [
    "print(dem_lngs)"
   ],
   "metadata": {
    "collapsed": false
   }
  },
  {
   "cell_type": "code",
   "execution_count": 149,
   "outputs": [
    {
     "name": "stdout",
     "output_type": "stream",
     "text": [
      "-83.97583333333333 -83.55333333333333 508\n",
      "35.88583333333333 35.5425 413\n",
      "(-83.97583333333333, 35.88583333333333)\n",
      "(413, 508)\n",
      "508\n",
      "413\n",
      "(-83.76447851575287, 35.71425407562362)\n",
      "35.88583333333333 35.885 35.54333333333333 35.5425\n",
      "-83.97583333333333 -83.975 -83.55416666666666 -83.55333333333333\n"
     ]
    }
   ],
   "source": [
    "t = rio.open(\"../ndvi.tiff\")\n",
    "t2 = t.read(1)\n",
    "\n",
    "t_lats = [t.xy(i,0)[1] for i in range(t.height)]\n",
    "t_lngs = [t.xy(0,i)[0] for i in range(t.width)]\n",
    "print(t_lngs[0],t_lngs[-1], len(t_lngs))\n",
    "print(t_lats[0],t_lats[-1], len(t_lats))\n",
    "print(t.xy(0,0))\n",
    "print(t2.shape)\n",
    "print(t.width)\n",
    "print(t.height)\n",
    "print(t.lnglat())\n",
    "print(t_lats[0],t_lats[1], t_lats[-2], t_lats[-1])\n",
    "print(t_lngs[0], t_lngs[1], t_lngs[-2], t_lngs[-1])\n"
   ],
   "metadata": {
    "collapsed": false
   }
  },
  {
   "cell_type": "code",
   "execution_count": 93,
   "outputs": [
    {
     "name": "stdout",
     "output_type": "stream",
     "text": [
      "-83.97666666666666 -83.55333333333333 509\n",
      "35.88666666666666 35.54333333333334 413\n"
     ]
    }
   ],
   "source": [
    "print(new_dem_lngs[0],new_dem_lngs[-1],len(new_dem_lngs))\n",
    "print(new_dem_lats[0],new_dem_lats[-1],len(new_dem_lats))\n"
   ],
   "metadata": {
    "collapsed": false
   }
  },
  {
   "cell_type": "code",
   "execution_count": 150,
   "outputs": [
    {
     "data": {
      "text/plain": "(413, 508)"
     },
     "execution_count": 150,
     "metadata": {},
     "output_type": "execute_result"
    }
   ],
   "source": [
    "t2.shape"
   ],
   "metadata": {
    "collapsed": false
   }
  },
  {
   "cell_type": "code",
   "execution_count": 155,
   "outputs": [
    {
     "data": {
      "text/plain": "array([[1111, 1104],\n       [1094, 1081]], dtype=int16)"
     },
     "execution_count": 155,
     "metadata": {},
     "output_type": "execute_result"
    }
   ],
   "source": [
    "t2[-2:,-2:]"
   ],
   "metadata": {
    "collapsed": false
   }
  },
  {
   "cell_type": "code",
   "execution_count": 154,
   "outputs": [
    {
     "data": {
      "text/plain": "array([[1111, 1104],\n       [1094, 1081]], dtype=int16)"
     },
     "execution_count": 154,
     "metadata": {},
     "output_type": "execute_result"
    }
   ],
   "source": [
    "new_dem_elevation[-2:,-2:]"
   ],
   "metadata": {
    "collapsed": false
   }
  },
  {
   "cell_type": "code",
   "execution_count": 216,
   "outputs": [
    {
     "data": {
      "text/plain": "-0.5"
     },
     "execution_count": 216,
     "metadata": {},
     "output_type": "execute_result"
    }
   ],
   "source": [
    "np.divide((10 - 15), (15 - 5))\n"
   ],
   "metadata": {
    "collapsed": false
   }
  },
  {
   "cell_type": "markdown",
   "source": [
    "---\n",
    "# new netcdf file"
   ],
   "metadata": {
    "collapsed": false
   }
  },
  {
   "cell_type": "code",
   "execution_count": 157,
   "outputs": [
    {
     "data": {
      "text/plain": "<class 'netCDF4._netCDF4.Dataset'>\nroot group (NETCDF3_CLASSIC data model, file format NETCDF3):\n    dimensions(sizes): longitude(17), latitude(14), time(29952)\n    variables(dimensions): float32 longitude(longitude), float32 latitude(latitude), float32 dem(longitude, longitude), float32 bdy(longitude, latitude), float32 Fraction_of_reflected_sunlight(time, longitude, latitude), float32 Accumulated_Precipitation(time, longitude, latitude), float32 Fractional_Vegetation_Cover(time, longitude, latitude), float32 Downward_Longwave_Radiation_Flux_at_Surface(time, longitude, latitude), float32 Downward_Shortwave_Radiation_Flux_at_Surface(time, longitude, latitude), float32 Fraction_of_Photosynthetically_Active_Radiation(time, longitude, latitude), float32 International_Geosphere-Biosphere_Programme_Land_Cover_Classification(time, longitude, latitude), float32 Leaf_Area_Index(time, longitude, latitude), float32 Air_Pressure_at_Surface(time, longitude, latitude), float32 Specific_Humidity_2_m_above_ground(time, longitude, latitude), float32 Air_Temperature_2_m_above_ground(time, longitude, latitude), float32 Wind_velocities_10m_above_ground(time, longitude, latitude), float32 Emissivity(time, longitude, latitude)\n    groups: "
     },
     "execution_count": 157,
     "metadata": {},
     "output_type": "execute_result"
    }
   ],
   "source": [
    "ds"
   ],
   "metadata": {
    "collapsed": false
   }
  },
  {
   "cell_type": "code",
   "execution_count": 209,
   "outputs": [
    {
     "data": {
      "text/plain": "{'longitude': <class 'netCDF4._netCDF4.Variable'>\n float32 longitude(longitude)\n     units: degrees_east\n unlimited dimensions: \n current shape = (17,)\n filling on, default _FillValue of 9.969209968386869e+36 used,\n 'latitude': <class 'netCDF4._netCDF4.Variable'>\n float32 latitude(latitude)\n     units: degrees_north\n unlimited dimensions: \n current shape = (14,)\n filling on, default _FillValue of 9.969209968386869e+36 used,\n 'dem': <class 'netCDF4._netCDF4.Variable'>\n float32 dem(longitude, longitude)\n unlimited dimensions: \n current shape = (17, 17)\n filling on, default _FillValue of 9.969209968386869e+36 used,\n 'bdy': <class 'netCDF4._netCDF4.Variable'>\n float32 bdy(longitude, latitude)\n unlimited dimensions: \n current shape = (17, 14)\n filling on, default _FillValue of 9.969209968386869e+36 used,\n 'Fraction_of_reflected_sunlight': <class 'netCDF4._netCDF4.Variable'>\n float32 Fraction_of_reflected_sunlight(time, longitude, latitude)\n     units: (Percentage)\n unlimited dimensions: time\n current shape = (29952, 17, 14)\n filling on, default _FillValue of 9.969209968386869e+36 used,\n 'Accumulated_Precipitation': <class 'netCDF4._netCDF4.Variable'>\n float32 Accumulated_Precipitation(time, longitude, latitude)\n     units: (mm/hr)_at_surface\n unlimited dimensions: time\n current shape = (29952, 17, 14)\n filling on, default _FillValue of 9.969209968386869e+36 used,\n 'Fractional_Vegetation_Cover': <class 'netCDF4._netCDF4.Variable'>\n float32 Fractional_Vegetation_Cover(time, longitude, latitude)\n     units: (decimal_from_0_to_1)\n unlimited dimensions: time\n current shape = (29952, 17, 14)\n filling on, default _FillValue of 9.969209968386869e+36 used,\n 'Downward_Longwave_Radiation_Flux_at_Surface': <class 'netCDF4._netCDF4.Variable'>\n float32 Downward_Longwave_Radiation_Flux_at_Surface(time, longitude, latitude)\n     units: (W/m2)\n unlimited dimensions: time\n current shape = (29952, 17, 14)\n filling on, default _FillValue of 9.969209968386869e+36 used,\n 'Downward_Shortwave_Radiation_Flux_at_Surface': <class 'netCDF4._netCDF4.Variable'>\n float32 Downward_Shortwave_Radiation_Flux_at_Surface(time, longitude, latitude)\n     units: (W/m2)\n unlimited dimensions: time\n current shape = (29952, 17, 14)\n filling on, default _FillValue of 9.969209968386869e+36 used,\n 'Fraction_of_Photosynthetically_Active_Radiation': <class 'netCDF4._netCDF4.Variable'>\n float32 Fraction_of_Photosynthetically_Active_Radiation(time, longitude, latitude)\n     units: (decimal_from_0_to_1)\n unlimited dimensions: time\n current shape = (29952, 17, 14)\n filling on, default _FillValue of 9.969209968386869e+36 used,\n 'International_Geosphere-Biosphere_Programme_Land_Cover_Classification': <class 'netCDF4._netCDF4.Variable'>\n float32 International_Geosphere-Biosphere_Programme_Land_Cover_Classification(time, longitude, latitude)\n     units: (1_to_17_with_each_number_corresponding_to_a_categorical_class)\n unlimited dimensions: time\n current shape = (29952, 17, 14)\n filling on, default _FillValue of 9.969209968386869e+36 used,\n 'Leaf_Area_Index': <class 'netCDF4._netCDF4.Variable'>\n float32 Leaf_Area_Index(time, longitude, latitude)\n     units: (m2/m2)\n unlimited dimensions: time\n current shape = (29952, 17, 14)\n filling on, default _FillValue of 9.969209968386869e+36 used,\n 'Air_Pressure_at_Surface': <class 'netCDF4._netCDF4.Variable'>\n float32 Air_Pressure_at_Surface(time, longitude, latitude)\n     units: (millibars)\n unlimited dimensions: time\n current shape = (29952, 17, 14)\n filling on, default _FillValue of 9.969209968386869e+36 used,\n 'Specific_Humidity_2_m_above_ground': <class 'netCDF4._netCDF4.Variable'>\n float32 Specific_Humidity_2_m_above_ground(time, longitude, latitude)\n     units: (kg/kg)\n unlimited dimensions: time\n current shape = (29952, 17, 14)\n filling on, default _FillValue of 9.969209968386869e+36 used,\n 'Air_Temperature_2_m_above_ground': <class 'netCDF4._netCDF4.Variable'>\n float32 Air_Temperature_2_m_above_ground(time, longitude, latitude)\n     units: (Kelvin)\n unlimited dimensions: time\n current shape = (29952, 17, 14)\n filling on, default _FillValue of 9.969209968386869e+36 used,\n 'Wind_velocities_10m_above_ground': <class 'netCDF4._netCDF4.Variable'>\n float32 Wind_velocities_10m_above_ground(time, longitude, latitude)\n     units: (m/s)\n unlimited dimensions: time\n current shape = (29952, 17, 14)\n filling on, default _FillValue of 9.969209968386869e+36 used,\n 'Emissivity': <class 'netCDF4._netCDF4.Variable'>\n float32 Emissivity(time, longitude, latitude)\n unlimited dimensions: time\n current shape = (29952, 17, 14)\n filling on, default _FillValue of 9.969209968386869e+36 used}"
     },
     "execution_count": 209,
     "metadata": {},
     "output_type": "execute_result"
    }
   ],
   "source": [
    "ds.variables"
   ],
   "metadata": {
    "collapsed": false
   }
  },
  {
   "cell_type": "code",
   "execution_count": 213,
   "outputs": [
    {
     "data": {
      "text/plain": "29952"
     },
     "execution_count": 213,
     "metadata": {},
     "output_type": "execute_result"
    }
   ],
   "source": [
    "ds.dimensions['time'].size"
   ],
   "metadata": {
    "collapsed": false
   }
  },
  {
   "cell_type": "code",
   "execution_count": 203,
   "outputs": [
    {
     "name": "stdout",
     "output_type": "stream",
     "text": [
      "(Percentage)\n",
      "(mm/hr)_at_surface\n",
      "(decimal_from_0_to_1)\n",
      "(W/m2)\n",
      "(W/m2)\n",
      "(decimal_from_0_to_1)\n",
      "(1_to_17_with_each_number_corresponding_to_a_categorical_class)\n",
      "(m2/m2)\n",
      "(millibars)\n",
      "(kg/kg)\n",
      "(Kelvin)\n",
      "(m/s)\n"
     ]
    }
   ],
   "source": [
    "for k in ds.variables.keys():\n",
    "    if k not in ['longitude', 'latitude']:\n",
    "        if 'units' in dir(ds[k]):\n",
    "            print(ds[k].units)\n"
   ],
   "metadata": {
    "collapsed": false
   }
  },
  {
   "cell_type": "code",
   "execution_count": 215,
   "outputs": [
    {
     "data": {
      "text/plain": "masked_array(\n  data=[[0.49280798, 0.42714283, 0.33553907, 0.36116484, 0.34513804,\n         0.2637784 , 0.27214563, 0.5180584 , 0.59304506, 0.651376  ,\n         0.6479363 , 0.69388133, 0.8540828 , 0.7389563 ],\n        [0.52881926, 0.42576155, 0.43181196, 0.5184701 , 0.48145387,\n         0.3426717 , 0.44866768, 0.615538  , 0.6324631 , 0.6331427 ,\n         0.6047788 , 0.7913399 , 0.81190443, 0.77461874],\n        [0.5742944 , 0.5919842 , 0.66818273, 0.6077618 , 0.60524327,\n         0.46125573, 0.5718785 , 0.64990586, 0.6216567 , 0.5720708 ,\n         0.67252314, 0.8097012 , 0.76272184, 0.6933485 ],\n        [0.63429123, 0.657112  , 0.6805617 , 0.6892891 , 0.62283814,\n         0.5608554 , 0.5890875 , 0.6149074 , 0.5847626 , 0.6044526 ,\n         0.7414453 , 0.8771952 , 0.77792287, 0.67481077],\n        [0.56026304, 0.6661099 , 0.69537944, 0.708635  , 0.6438682 ,\n         0.50528544, 0.5420506 , 0.58225626, 0.6766097 , 0.68018216,\n         0.7099358 , 0.8602889 , 0.7825433 , 0.74206156],\n        [0.5840694 , 0.6836135 , 0.7075312 , 0.665361  , 0.5388852 ,\n         0.4968666 , 0.5428515 , 0.6520611 , 0.69556755, 0.7128749 ,\n         0.7265497 , 0.8000978 , 0.7521719 , 0.7247677 ],\n        [0.6430074 , 0.6931806 , 0.66968733, 0.5936874 , 0.5553009 ,\n         0.5553446 , 0.55612403, 0.6550296 , 0.6780023 , 0.6593868 ,\n         0.6907794 , 0.8002103 , 0.6033544 , 0.6307251 ],\n        [0.64263314, 0.6351489 , 0.62362635, 0.5999608 , 0.61408645,\n         0.59452665, 0.623358  , 0.69031924, 0.6996323 , 0.7374802 ,\n         0.63805073, 0.8140042 , 0.5725098 , 0.6397198 ],\n        [0.62548417, 0.65752304, 0.61712265, 0.6724047 , 0.6614742 ,\n         0.6106695 , 0.69183123, 0.6907328 , 0.7214142 , 0.7473936 ,\n         0.6878555 , 0.7983488 , 0.59476805, 0.5862663 ],\n        [0.64260393, 0.5930139 , 0.6240198 , 0.67223877, 0.5863386 ,\n         0.64779884, 0.72534543, 0.6677702 , 0.7509724 , 0.6993155 ,\n         0.8026454 , 0.76857895, 0.5631103 , 0.5533692 ],\n        [0.6202393 , 0.5957562 , 0.59003216, 0.5875455 , 0.5525723 ,\n         0.7215853 , 0.68998593, 0.64610803, 0.7773882 , 0.75136817,\n         0.82678723, 0.7374048 , 0.55160975, 0.5869105 ],\n        [0.59985566, 0.5738233 , 0.5998589 , 0.5656761 , 0.59124786,\n         0.7102454 , 0.6679811 , 0.6164467 , 0.7201664 , 0.8393555 ,\n         0.7353744 , 0.60815096, 0.5934495 , 0.6686603 ],\n        [0.60158855, 0.6220764 , 0.6151712 , 0.5734687 , 0.6792974 ,\n         0.7714594 , 0.641363  , 0.7064502 , 0.65153205, 0.7875029 ,\n         0.73576117, 0.71941644, 0.605274  , 0.62529933],\n        [0.6341319 , 0.66122913, 0.67103684, 0.64434195, 0.6937047 ,\n         0.6552344 , 0.651721  , 0.6529672 , 0.68317306, 0.7784615 ,\n         0.6255828 , 0.69133335, 0.6573075 , 0.5902778 ],\n        [0.5832503 , 0.60075223, 0.66733575, 0.64480007, 0.6135786 ,\n         0.6174077 , 0.64091426, 0.5956174 , 0.6866081 , 0.7845867 ,\n         0.5875947 , 0.6362357 , 0.674931  , 0.57841325],\n        [0.5926304 , 0.47752482, 0.49302626, 0.52781945, 0.44913155,\n         0.5900453 , 0.6284703 , 0.59467953, 0.68331444, 0.722349  ,\n         0.60903645, 0.6776635 , 0.6647164 , 0.5631492 ],\n        [0.61301374, 0.47493106, 0.5137765 , 0.53026795, 0.41465634,\n         0.5565762 , 0.5834721 , 0.552367  , 0.63923484, 0.6280671 ,\n         0.64440346, 0.70650405, 0.64029044, 0.75174993]],\n  mask=False,\n  fill_value=1e+20,\n  dtype=float32)"
     },
     "execution_count": 215,
     "metadata": {},
     "output_type": "execute_result"
    }
   ],
   "source": [
    "ds['Leaf_Area_Index'][29951]"
   ],
   "metadata": {
    "collapsed": false
   }
  },
  {
   "cell_type": "code",
   "execution_count": 208,
   "outputs": [
    {
     "name": "stdout",
     "output_type": "stream",
     "text": [
      "<class 'netCDF4._netCDF4.Dataset'>\n",
      "root group (NETCDF4 data model, file format HDF5):\n",
      "    dimensions(sizes): longitude(508), latitude(413), time(0)\n",
      "    variables(dimensions): float32 longitude(longitude), float32 latitude(latitude), float32 dem(time, latitude, longitude), float32 bdy(time, latitude, longitude), float32 Fraction_of_reflected_sunlight(time, latitude, longitude), float32 Accumulated_Precipitation(time, latitude, longitude), float32 Fractional_Vegetation_Cover(time, latitude, longitude), float32 Downward_Longwave_Radiation_Flux_at_Surface(time, latitude, longitude), float32 Downward_Shortwave_Radiation_Flux_at_Surface(time, latitude, longitude), float32 Fraction_of_Photosynthetically_Active_Radiation(time, latitude, longitude), float32 International_Geosphere-Biosphere_Programme_Land_Cover_Classification(time, latitude, longitude), float32 Leaf_Area_Index(time, latitude, longitude), float32 Air_Pressure_at_Surface(time, latitude, longitude), float32 Specific_Humidity_2_m_above_ground(time, latitude, longitude), float32 Air_Temperature_2_m_above_ground(time, latitude, longitude), float32 Wind_velocities_10m_above_ground(time, latitude, longitude), float32 Emissivity(time, latitude, longitude)\n",
      "    groups: \n",
      "{'latitude': <class 'netCDF4._netCDF4.Dimension'>: name = 'latitude', size = 413,\n",
      " 'longitude': <class 'netCDF4._netCDF4.Dimension'>: name = 'longitude', size = 508,\n",
      " 'time': <class 'netCDF4._netCDF4.Dimension'> (unlimited): name = 'time', size = 0}\n",
      "{'Accumulated_Precipitation': <class 'netCDF4._netCDF4.Variable'>\n",
      "float32 Accumulated_Precipitation(time, latitude, longitude)\n",
      "    units: (mm/hr)_at_surface\n",
      "unlimited dimensions: time\n",
      "current shape = (0, 413, 508)\n",
      "filling on, default _FillValue of 9.969209968386869e+36 used,\n",
      " 'Air_Pressure_at_Surface': <class 'netCDF4._netCDF4.Variable'>\n",
      "float32 Air_Pressure_at_Surface(time, latitude, longitude)\n",
      "    units: (millibars)\n",
      "unlimited dimensions: time\n",
      "current shape = (0, 413, 508)\n",
      "filling on, default _FillValue of 9.969209968386869e+36 used,\n",
      " 'Air_Temperature_2_m_above_ground': <class 'netCDF4._netCDF4.Variable'>\n",
      "float32 Air_Temperature_2_m_above_ground(time, latitude, longitude)\n",
      "    units: (Kelvin)\n",
      "unlimited dimensions: time\n",
      "current shape = (0, 413, 508)\n",
      "filling on, default _FillValue of 9.969209968386869e+36 used,\n",
      " 'Downward_Longwave_Radiation_Flux_at_Surface': <class 'netCDF4._netCDF4.Variable'>\n",
      "float32 Downward_Longwave_Radiation_Flux_at_Surface(time, latitude, longitude)\n",
      "    units: (W/m2)\n",
      "unlimited dimensions: time\n",
      "current shape = (0, 413, 508)\n",
      "filling on, default _FillValue of 9.969209968386869e+36 used,\n",
      " 'Downward_Shortwave_Radiation_Flux_at_Surface': <class 'netCDF4._netCDF4.Variable'>\n",
      "float32 Downward_Shortwave_Radiation_Flux_at_Surface(time, latitude, longitude)\n",
      "    units: (W/m2)\n",
      "unlimited dimensions: time\n",
      "current shape = (0, 413, 508)\n",
      "filling on, default _FillValue of 9.969209968386869e+36 used,\n",
      " 'Emissivity': <class 'netCDF4._netCDF4.Variable'>\n",
      "float32 Emissivity(time, latitude, longitude)\n",
      "unlimited dimensions: time\n",
      "current shape = (0, 413, 508)\n",
      "filling on, default _FillValue of 9.969209968386869e+36 used,\n",
      " 'Fraction_of_Photosynthetically_Active_Radiation': <class 'netCDF4._netCDF4.Variable'>\n",
      "float32 Fraction_of_Photosynthetically_Active_Radiation(time, latitude, longitude)\n",
      "    units: (decimal_from_0_to_1)\n",
      "unlimited dimensions: time\n",
      "current shape = (0, 413, 508)\n",
      "filling on, default _FillValue of 9.969209968386869e+36 used,\n",
      " 'Fraction_of_reflected_sunlight': <class 'netCDF4._netCDF4.Variable'>\n",
      "float32 Fraction_of_reflected_sunlight(time, latitude, longitude)\n",
      "    units: (Percentage)\n",
      "unlimited dimensions: time\n",
      "current shape = (0, 413, 508)\n",
      "filling on, default _FillValue of 9.969209968386869e+36 used,\n",
      " 'Fractional_Vegetation_Cover': <class 'netCDF4._netCDF4.Variable'>\n",
      "float32 Fractional_Vegetation_Cover(time, latitude, longitude)\n",
      "    units: (decimal_from_0_to_1)\n",
      "unlimited dimensions: time\n",
      "current shape = (0, 413, 508)\n",
      "filling on, default _FillValue of 9.969209968386869e+36 used,\n",
      " 'International_Geosphere-Biosphere_Programme_Land_Cover_Classification': <class 'netCDF4._netCDF4.Variable'>\n",
      "float32 International_Geosphere-Biosphere_Programme_Land_Cover_Classification(time, latitude, longitude)\n",
      "    units: (1_to_17_with_each_number_corresponding_to_a_categorical_class)\n",
      "unlimited dimensions: time\n",
      "current shape = (0, 413, 508)\n",
      "filling on, default _FillValue of 9.969209968386869e+36 used,\n",
      " 'Leaf_Area_Index': <class 'netCDF4._netCDF4.Variable'>\n",
      "float32 Leaf_Area_Index(time, latitude, longitude)\n",
      "    units: (m2/m2)\n",
      "unlimited dimensions: time\n",
      "current shape = (0, 413, 508)\n",
      "filling on, default _FillValue of 9.969209968386869e+36 used,\n",
      " 'Specific_Humidity_2_m_above_ground': <class 'netCDF4._netCDF4.Variable'>\n",
      "float32 Specific_Humidity_2_m_above_ground(time, latitude, longitude)\n",
      "    units: (kg/kg)\n",
      "unlimited dimensions: time\n",
      "current shape = (0, 413, 508)\n",
      "filling on, default _FillValue of 9.969209968386869e+36 used,\n",
      " 'Wind_velocities_10m_above_ground': <class 'netCDF4._netCDF4.Variable'>\n",
      "float32 Wind_velocities_10m_above_ground(time, latitude, longitude)\n",
      "    units: (m/s)\n",
      "unlimited dimensions: time\n",
      "current shape = (0, 413, 508)\n",
      "filling on, default _FillValue of 9.969209968386869e+36 used,\n",
      " 'bdy': <class 'netCDF4._netCDF4.Variable'>\n",
      "float32 bdy(time, latitude, longitude)\n",
      "unlimited dimensions: time\n",
      "current shape = (0, 413, 508)\n",
      "filling on, default _FillValue of 9.969209968386869e+36 used,\n",
      " 'dem': <class 'netCDF4._netCDF4.Variable'>\n",
      "float32 dem(time, latitude, longitude)\n",
      "unlimited dimensions: time\n",
      "current shape = (0, 413, 508)\n",
      "filling on, default _FillValue of 9.969209968386869e+36 used,\n",
      " 'latitude': <class 'netCDF4._netCDF4.Variable'>\n",
      "float32 latitude(latitude)\n",
      "unlimited dimensions: \n",
      "current shape = (413,)\n",
      "filling on, default _FillValue of 9.969209968386869e+36 used,\n",
      " 'longitude': <class 'netCDF4._netCDF4.Variable'>\n",
      "float32 longitude(longitude)\n",
      "unlimited dimensions: \n",
      "current shape = (508,)\n",
      "filling on, default _FillValue of 9.969209968386869e+36 used}\n"
     ]
    }
   ],
   "source": [
    "# open dataset\n",
    "new_ds = nc.Dataset('test.nc', 'w', format=\"NETCDF4\")\n",
    "\n",
    "# create dimensions\n",
    "new_ds_dim_lat = new_ds.createDimension(\"longitude\", size=len(new_dem_lngs))\n",
    "new_ds_dim_lon = new_ds.createDimension(\"latitude\", size=len(new_dem_lats))\n",
    "new_ds_dim_time = new_ds.createDimension(\"time\", size=None)\n",
    "\n",
    "# create lat lon variables\n",
    "new_ds_var_lon = new_ds.createVariable('longitude', 'f4', ('longitude',))\n",
    "new_ds_var_lat = new_ds.createVariable('latitude', 'f4', ('latitude',))\n",
    "new_ds_var_lon[:] = new_dem_lngs\n",
    "new_ds_var_lat[:] = new_dem_lats\n",
    "\n",
    "# create other variables\n",
    "for k in ds.variables.keys():\n",
    "    if k not in ['longitude', 'latitude']:\n",
    "        new_ds_var = new_ds.createVariable(k, 'f4', ('time', 'latitude', 'longitude',))\n",
    "        if 'units' in dir(ds[k]):\n",
    "            new_ds_var.units = ds[k].units\n",
    "# for t in range(0,100):\n",
    "#     data = ds['Air_Pressure_at_Surface'][0, :].astype(np.float64)\n",
    "#     data_scaled = min_max_scale(data)\n",
    "#     data_new = interpolate(data_scaled.T)\n",
    "#     new_ds_var[t,:] = data_new\n",
    "\n",
    "# debug print\n",
    "print(new_ds)\n",
    "pprint(new_ds.dimensions)\n",
    "pprint(new_ds.variables)\n",
    "# pprint(new_ds['longitude'][:])\n",
    "# close dataset\n",
    "new_ds.close()\n"
   ],
   "metadata": {
    "collapsed": false
   }
  },
  {
   "cell_type": "code",
   "execution_count": 206,
   "outputs": [],
   "source": [
    "new_ds.close()\n"
   ],
   "metadata": {
    "collapsed": false
   }
  },
  {
   "cell_type": "code",
   "execution_count": 168,
   "outputs": [],
   "source": [
    "from pprint import pprint\n"
   ],
   "metadata": {
    "collapsed": false
   }
  },
  {
   "cell_type": "code",
   "execution_count": 186,
   "outputs": [
    {
     "data": {
      "text/plain": "(413, 508)"
     },
     "execution_count": 186,
     "metadata": {},
     "output_type": "execute_result"
    }
   ],
   "source": [
    "data_new.shape"
   ],
   "metadata": {
    "collapsed": false
   }
  },
  {
   "cell_type": "code",
   "execution_count": null,
   "outputs": [],
   "source": [],
   "metadata": {
    "collapsed": false
   }
  }
 ],
 "metadata": {
  "kernelspec": {
   "display_name": "Python 3",
   "language": "python",
   "name": "python3"
  },
  "language_info": {
   "codemirror_mode": {
    "name": "ipython",
    "version": 2
   },
   "file_extension": ".py",
   "mimetype": "text/x-python",
   "name": "python",
   "nbconvert_exporter": "python",
   "pygments_lexer": "ipython2",
   "version": "2.7.6"
  }
 },
 "nbformat": 4,
 "nbformat_minor": 0
}
